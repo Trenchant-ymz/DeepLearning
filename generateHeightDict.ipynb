{
 "metadata": {
  "language_info": {
   "codemirror_mode": {
    "name": "ipython",
    "version": 3
   },
   "file_extension": ".py",
   "mimetype": "text/x-python",
   "name": "python",
   "nbconvert_exporter": "python",
   "pygments_lexer": "ipython3",
   "version": "3.8.5"
  },
  "orig_nbformat": 2,
  "kernelspec": {
   "name": "python385jvsc74a57bd06efccfe63ff034e49c0932d86080ee187770f3a9fac302570fc5ff55645a5f3f",
   "display_name": "Python 3.8.5 64-bit ('base': conda)"
  }
 },
 "nbformat": 4,
 "nbformat_minor": 2,
 "cells": [
  {
   "cell_type": "code",
   "execution_count": 1,
   "metadata": {},
   "outputs": [],
   "source": [
    "import pandas as pd\n",
    "import matplotlib.pyplot as plt\n",
    "import osmnx as ox\n",
    "import networkx as nx\n",
    "import plotly.graph_objects as go\n",
    "import numpy as np\n",
    "import psycopg2\n",
    "import datetime\n",
    "import plotly.io as pio\n",
    "import osmnx as ox\n",
    "import time\n",
    "from shapely.geometry import Polygon\n",
    "import os\n",
    "import gc\n",
    "from os import walk\n",
    "import geopandas as gpd\n",
    "import math"
   ]
  },
  {
   "cell_type": "code",
   "execution_count": 3,
   "metadata": {},
   "outputs": [],
   "source": [
    "cnt = 0\n",
    "f = r'./result_new/features_percentile005'\n",
    "path_list = os.listdir(f)\n",
    "path_list.sort(key=lambda x:int(x[15:-4]))\n",
    "for file in path_list:\n",
    "    filename = f + '/' + file\n",
    "    if cnt == 0:                               \n",
    "        df_edge = pd.read_csv(filename,skiprows=[1])\n",
    "    else:\n",
    "        df = pd.read_csv(filename,skiprows=[1])\n",
    "        df_edge = pd.concat([df_edge,df])\n",
    "    cnt += 1\n",
    "df_edge = df_edge.reset_index(drop = True)"
   ]
  },
  {
   "cell_type": "code",
   "execution_count": 4,
   "metadata": {},
   "outputs": [
    {
     "output_type": "execute_result",
     "data": {
      "text/plain": [
       "          network_id       position  average_speed    speed_limit  \\\n",
       "count  120475.000000  120475.000000  120475.000000  120475.000000   \n",
       "mean   397608.653372      81.111135      77.825436      80.261621   \n",
       "std    118314.595349      77.941162      31.247457      21.895262   \n",
       "min     29172.000000       1.000000       2.113339      24.135000   \n",
       "25%    368537.000000      26.000000      52.906972      48.270000   \n",
       "50%    448990.000000      56.000000      91.497178      88.495000   \n",
       "75%    455733.500000     107.000000     101.869484      96.540000   \n",
       "max    716846.000000     495.000000     254.000000     112.630000   \n",
       "\n",
       "                mass  elevation_change  previous_orientation         length  \\\n",
       "count  120475.000000     120475.000000         120475.000000  120475.000000   \n",
       "mean    23168.059763         -0.113145             -1.856240     632.578962   \n",
       "std      8245.075889         10.699713             34.860204    1024.806320   \n",
       "min      8000.000000       -260.500000           -179.999959       1.290000   \n",
       "25%     16000.000000         -4.550000             -0.818007     173.783000   \n",
       "50%     20000.000000          0.000000             -0.001152     410.534000   \n",
       "75%     30000.000000          4.500000              1.044766     778.761000   \n",
       "max     49000.000000        212.500000            179.999490   15022.949000   \n",
       "\n",
       "       energy_consumption_total  energy_consumption_per_hour  \\\n",
       "count             120475.000000                120475.000000   \n",
       "mean                   0.223233                     0.000745   \n",
       "std                    0.375075                     0.000477   \n",
       "min                    0.000000                     0.000000   \n",
       "25%                    0.050372                     0.000367   \n",
       "50%                    0.133239                     0.000708   \n",
       "75%                    0.268656                     0.001037   \n",
       "max                    7.459303                     0.002618   \n",
       "\n",
       "       energy_consumption_per_100km           time  direction_angle  \\\n",
       "count                 120475.000000  120475.000000    120376.000000   \n",
       "mean                      58.905575      30.069145         1.667142   \n",
       "std                      282.952868      42.159121       102.804529   \n",
       "min                        0.000000       0.100000      -180.000000   \n",
       "25%                       20.622006      10.400000       -89.424764   \n",
       "50%                       32.301434      21.000000         0.309616   \n",
       "75%                       48.950687      33.000000        90.358604   \n",
       "max                    43519.675060     850.100000       179.997073   \n",
       "\n",
       "          time_stage       week_day          lanes         bridge  \\\n",
       "count  120475.000000  120475.000000  120475.000000  120475.000000   \n",
       "mean        3.269151       3.074588       1.864619       0.192496   \n",
       "std         0.823000       1.288722       1.359442       0.394262   \n",
       "min         1.000000       1.000000       0.000000       0.000000   \n",
       "25%         3.000000       2.000000       0.000000       0.000000   \n",
       "50%         3.000000       3.000000       2.000000       0.000000   \n",
       "75%         4.000000       4.000000       3.000000       0.000000   \n",
       "max         6.000000       7.000000       6.000000       1.000000   \n",
       "\n",
       "          endpoint_u     endpoint_v  \n",
       "count  120475.000000  120475.000000  \n",
       "mean        1.200274       1.157136  \n",
       "std         1.781827       1.764738  \n",
       "min         0.000000       0.000000  \n",
       "25%         0.000000       0.000000  \n",
       "50%         0.000000       0.000000  \n",
       "75%         4.000000       4.000000  \n",
       "max        13.000000      13.000000  "
      ],
      "text/html": "<div>\n<style scoped>\n    .dataframe tbody tr th:only-of-type {\n        vertical-align: middle;\n    }\n\n    .dataframe tbody tr th {\n        vertical-align: top;\n    }\n\n    .dataframe thead th {\n        text-align: right;\n    }\n</style>\n<table border=\"1\" class=\"dataframe\">\n  <thead>\n    <tr style=\"text-align: right;\">\n      <th></th>\n      <th>network_id</th>\n      <th>position</th>\n      <th>average_speed</th>\n      <th>speed_limit</th>\n      <th>mass</th>\n      <th>elevation_change</th>\n      <th>previous_orientation</th>\n      <th>length</th>\n      <th>energy_consumption_total</th>\n      <th>energy_consumption_per_hour</th>\n      <th>energy_consumption_per_100km</th>\n      <th>time</th>\n      <th>direction_angle</th>\n      <th>time_stage</th>\n      <th>week_day</th>\n      <th>lanes</th>\n      <th>bridge</th>\n      <th>endpoint_u</th>\n      <th>endpoint_v</th>\n    </tr>\n  </thead>\n  <tbody>\n    <tr>\n      <th>count</th>\n      <td>120475.000000</td>\n      <td>120475.000000</td>\n      <td>120475.000000</td>\n      <td>120475.000000</td>\n      <td>120475.000000</td>\n      <td>120475.000000</td>\n      <td>120475.000000</td>\n      <td>120475.000000</td>\n      <td>120475.000000</td>\n      <td>120475.000000</td>\n      <td>120475.000000</td>\n      <td>120475.000000</td>\n      <td>120376.000000</td>\n      <td>120475.000000</td>\n      <td>120475.000000</td>\n      <td>120475.000000</td>\n      <td>120475.000000</td>\n      <td>120475.000000</td>\n      <td>120475.000000</td>\n    </tr>\n    <tr>\n      <th>mean</th>\n      <td>397608.653372</td>\n      <td>81.111135</td>\n      <td>77.825436</td>\n      <td>80.261621</td>\n      <td>23168.059763</td>\n      <td>-0.113145</td>\n      <td>-1.856240</td>\n      <td>632.578962</td>\n      <td>0.223233</td>\n      <td>0.000745</td>\n      <td>58.905575</td>\n      <td>30.069145</td>\n      <td>1.667142</td>\n      <td>3.269151</td>\n      <td>3.074588</td>\n      <td>1.864619</td>\n      <td>0.192496</td>\n      <td>1.200274</td>\n      <td>1.157136</td>\n    </tr>\n    <tr>\n      <th>std</th>\n      <td>118314.595349</td>\n      <td>77.941162</td>\n      <td>31.247457</td>\n      <td>21.895262</td>\n      <td>8245.075889</td>\n      <td>10.699713</td>\n      <td>34.860204</td>\n      <td>1024.806320</td>\n      <td>0.375075</td>\n      <td>0.000477</td>\n      <td>282.952868</td>\n      <td>42.159121</td>\n      <td>102.804529</td>\n      <td>0.823000</td>\n      <td>1.288722</td>\n      <td>1.359442</td>\n      <td>0.394262</td>\n      <td>1.781827</td>\n      <td>1.764738</td>\n    </tr>\n    <tr>\n      <th>min</th>\n      <td>29172.000000</td>\n      <td>1.000000</td>\n      <td>2.113339</td>\n      <td>24.135000</td>\n      <td>8000.000000</td>\n      <td>-260.500000</td>\n      <td>-179.999959</td>\n      <td>1.290000</td>\n      <td>0.000000</td>\n      <td>0.000000</td>\n      <td>0.000000</td>\n      <td>0.100000</td>\n      <td>-180.000000</td>\n      <td>1.000000</td>\n      <td>1.000000</td>\n      <td>0.000000</td>\n      <td>0.000000</td>\n      <td>0.000000</td>\n      <td>0.000000</td>\n    </tr>\n    <tr>\n      <th>25%</th>\n      <td>368537.000000</td>\n      <td>26.000000</td>\n      <td>52.906972</td>\n      <td>48.270000</td>\n      <td>16000.000000</td>\n      <td>-4.550000</td>\n      <td>-0.818007</td>\n      <td>173.783000</td>\n      <td>0.050372</td>\n      <td>0.000367</td>\n      <td>20.622006</td>\n      <td>10.400000</td>\n      <td>-89.424764</td>\n      <td>3.000000</td>\n      <td>2.000000</td>\n      <td>0.000000</td>\n      <td>0.000000</td>\n      <td>0.000000</td>\n      <td>0.000000</td>\n    </tr>\n    <tr>\n      <th>50%</th>\n      <td>448990.000000</td>\n      <td>56.000000</td>\n      <td>91.497178</td>\n      <td>88.495000</td>\n      <td>20000.000000</td>\n      <td>0.000000</td>\n      <td>-0.001152</td>\n      <td>410.534000</td>\n      <td>0.133239</td>\n      <td>0.000708</td>\n      <td>32.301434</td>\n      <td>21.000000</td>\n      <td>0.309616</td>\n      <td>3.000000</td>\n      <td>3.000000</td>\n      <td>2.000000</td>\n      <td>0.000000</td>\n      <td>0.000000</td>\n      <td>0.000000</td>\n    </tr>\n    <tr>\n      <th>75%</th>\n      <td>455733.500000</td>\n      <td>107.000000</td>\n      <td>101.869484</td>\n      <td>96.540000</td>\n      <td>30000.000000</td>\n      <td>4.500000</td>\n      <td>1.044766</td>\n      <td>778.761000</td>\n      <td>0.268656</td>\n      <td>0.001037</td>\n      <td>48.950687</td>\n      <td>33.000000</td>\n      <td>90.358604</td>\n      <td>4.000000</td>\n      <td>4.000000</td>\n      <td>3.000000</td>\n      <td>0.000000</td>\n      <td>4.000000</td>\n      <td>4.000000</td>\n    </tr>\n    <tr>\n      <th>max</th>\n      <td>716846.000000</td>\n      <td>495.000000</td>\n      <td>254.000000</td>\n      <td>112.630000</td>\n      <td>49000.000000</td>\n      <td>212.500000</td>\n      <td>179.999490</td>\n      <td>15022.949000</td>\n      <td>7.459303</td>\n      <td>0.002618</td>\n      <td>43519.675060</td>\n      <td>850.100000</td>\n      <td>179.997073</td>\n      <td>6.000000</td>\n      <td>7.000000</td>\n      <td>6.000000</td>\n      <td>1.000000</td>\n      <td>13.000000</td>\n      <td>13.000000</td>\n    </tr>\n  </tbody>\n</table>\n</div>"
     },
     "metadata": {},
     "execution_count": 4
    }
   ],
   "source": [
    "df_edge.describe()"
   ]
  },
  {
   "cell_type": "code",
   "execution_count": 5,
   "metadata": {},
   "outputs": [
    {
     "output_type": "execute_result",
     "data": {
      "text/plain": [
       "   network_id                 osmid                        tags  \\\n",
       "0      408526  [636154193, 6012871]     (34504451, 33826567, 0)   \n",
       "1      391523  [636154193, 5998138]     (33826567, 33308886, 0)   \n",
       "2      347664  [636154193, 5998138]     (33308886, 33826567, 0)   \n",
       "3      391522  [636154193, 6012871]     (33826567, 34504451, 0)   \n",
       "4      477837               6012871  (6960167568, 375477545, 0)   \n",
       "\n",
       "            index trip_id  position road_type  average_speed  speed_limit  \\\n",
       "0   (1650, 13590)  (0, 1)         1  tertiary       6.367262       56.315   \n",
       "1  (13590, 13740)  (0, 1)         2  tertiary      21.977953       56.315   \n",
       "2  (13740, 14070)  (0, 1)         3  tertiary      15.799874       56.315   \n",
       "3  (14070, 14790)  (0, 1)         4  tertiary      23.135569       56.315   \n",
       "4  (14790, 15090)  (0, 1)         5  tertiary      45.601827       56.315   \n",
       "\n",
       "      mass  ...                                              speed  \\\n",
       "0   8000.0  ...  [3.4102, 3.4648, 3.4258, 3.4805, 3.4922, 3.507...   \n",
       "1  30000.0  ...  [19.188, 20.281, 20.777, 21.914, 22.707, 23.00...   \n",
       "2  30000.0  ...  [21.121, 20.887, 20.656, 20.469, 20.266, 20.02...   \n",
       "3  30000.0  ...  [1.793, 4.543, 6.1602, 7.3906, 7.8281, 8.375, ...   \n",
       "4  30000.0  ...  [40.59, 40.855, 41.484, 41.785, 41.922, 42.09,...   \n",
       "\n",
       "                                         direction  direction_angle  \\\n",
       "0  [0.00023500000000353793, 0.0004609999999871661]        62.989269   \n",
       "1   [0.0007799999999988927, 2.500000000793534e-05]         1.835775   \n",
       "2  [0.0009549999999975967, 1.9999999949504854e-06]         0.119991   \n",
       "3  [-0.0019369999999980791, 0.0032980000000009113]       120.426809   \n",
       "4    [-0.00288900000000325, 0.0024920000000037135]       139.219529   \n",
       "\n",
       "   time_stage  week_day                    time_acc  lanes bridge endpoint_u  \\\n",
       "0           2         1         2020-08-10 06:02:00      2      0          0   \n",
       "1           2         1  2020-08-10 06:48:26.100000      2      0          0   \n",
       "2           2         1  2020-08-10 06:48:41.100000      2      0          6   \n",
       "3           2         1  2020-08-10 06:49:14.100000      2      0          0   \n",
       "4           2         1  2020-08-10 06:50:26.100000      2      0          0   \n",
       "\n",
       "   endpoint_v  \n",
       "0           0  \n",
       "1           6  \n",
       "2           0  \n",
       "3           0  \n",
       "4           0  \n",
       "\n",
       "[5 rows x 27 columns]"
      ],
      "text/html": "<div>\n<style scoped>\n    .dataframe tbody tr th:only-of-type {\n        vertical-align: middle;\n    }\n\n    .dataframe tbody tr th {\n        vertical-align: top;\n    }\n\n    .dataframe thead th {\n        text-align: right;\n    }\n</style>\n<table border=\"1\" class=\"dataframe\">\n  <thead>\n    <tr style=\"text-align: right;\">\n      <th></th>\n      <th>network_id</th>\n      <th>osmid</th>\n      <th>tags</th>\n      <th>index</th>\n      <th>trip_id</th>\n      <th>position</th>\n      <th>road_type</th>\n      <th>average_speed</th>\n      <th>speed_limit</th>\n      <th>mass</th>\n      <th>...</th>\n      <th>speed</th>\n      <th>direction</th>\n      <th>direction_angle</th>\n      <th>time_stage</th>\n      <th>week_day</th>\n      <th>time_acc</th>\n      <th>lanes</th>\n      <th>bridge</th>\n      <th>endpoint_u</th>\n      <th>endpoint_v</th>\n    </tr>\n  </thead>\n  <tbody>\n    <tr>\n      <th>0</th>\n      <td>408526</td>\n      <td>[636154193, 6012871]</td>\n      <td>(34504451, 33826567, 0)</td>\n      <td>(1650, 13590)</td>\n      <td>(0, 1)</td>\n      <td>1</td>\n      <td>tertiary</td>\n      <td>6.367262</td>\n      <td>56.315</td>\n      <td>8000.0</td>\n      <td>...</td>\n      <td>[3.4102, 3.4648, 3.4258, 3.4805, 3.4922, 3.507...</td>\n      <td>[0.00023500000000353793, 0.0004609999999871661]</td>\n      <td>62.989269</td>\n      <td>2</td>\n      <td>1</td>\n      <td>2020-08-10 06:02:00</td>\n      <td>2</td>\n      <td>0</td>\n      <td>0</td>\n      <td>0</td>\n    </tr>\n    <tr>\n      <th>1</th>\n      <td>391523</td>\n      <td>[636154193, 5998138]</td>\n      <td>(33826567, 33308886, 0)</td>\n      <td>(13590, 13740)</td>\n      <td>(0, 1)</td>\n      <td>2</td>\n      <td>tertiary</td>\n      <td>21.977953</td>\n      <td>56.315</td>\n      <td>30000.0</td>\n      <td>...</td>\n      <td>[19.188, 20.281, 20.777, 21.914, 22.707, 23.00...</td>\n      <td>[0.0007799999999988927, 2.500000000793534e-05]</td>\n      <td>1.835775</td>\n      <td>2</td>\n      <td>1</td>\n      <td>2020-08-10 06:48:26.100000</td>\n      <td>2</td>\n      <td>0</td>\n      <td>0</td>\n      <td>6</td>\n    </tr>\n    <tr>\n      <th>2</th>\n      <td>347664</td>\n      <td>[636154193, 5998138]</td>\n      <td>(33308886, 33826567, 0)</td>\n      <td>(13740, 14070)</td>\n      <td>(0, 1)</td>\n      <td>3</td>\n      <td>tertiary</td>\n      <td>15.799874</td>\n      <td>56.315</td>\n      <td>30000.0</td>\n      <td>...</td>\n      <td>[21.121, 20.887, 20.656, 20.469, 20.266, 20.02...</td>\n      <td>[0.0009549999999975967, 1.9999999949504854e-06]</td>\n      <td>0.119991</td>\n      <td>2</td>\n      <td>1</td>\n      <td>2020-08-10 06:48:41.100000</td>\n      <td>2</td>\n      <td>0</td>\n      <td>6</td>\n      <td>0</td>\n    </tr>\n    <tr>\n      <th>3</th>\n      <td>391522</td>\n      <td>[636154193, 6012871]</td>\n      <td>(33826567, 34504451, 0)</td>\n      <td>(14070, 14790)</td>\n      <td>(0, 1)</td>\n      <td>4</td>\n      <td>tertiary</td>\n      <td>23.135569</td>\n      <td>56.315</td>\n      <td>30000.0</td>\n      <td>...</td>\n      <td>[1.793, 4.543, 6.1602, 7.3906, 7.8281, 8.375, ...</td>\n      <td>[-0.0019369999999980791, 0.0032980000000009113]</td>\n      <td>120.426809</td>\n      <td>2</td>\n      <td>1</td>\n      <td>2020-08-10 06:49:14.100000</td>\n      <td>2</td>\n      <td>0</td>\n      <td>0</td>\n      <td>0</td>\n    </tr>\n    <tr>\n      <th>4</th>\n      <td>477837</td>\n      <td>6012871</td>\n      <td>(6960167568, 375477545, 0)</td>\n      <td>(14790, 15090)</td>\n      <td>(0, 1)</td>\n      <td>5</td>\n      <td>tertiary</td>\n      <td>45.601827</td>\n      <td>56.315</td>\n      <td>30000.0</td>\n      <td>...</td>\n      <td>[40.59, 40.855, 41.484, 41.785, 41.922, 42.09,...</td>\n      <td>[-0.00288900000000325, 0.0024920000000037135]</td>\n      <td>139.219529</td>\n      <td>2</td>\n      <td>1</td>\n      <td>2020-08-10 06:50:26.100000</td>\n      <td>2</td>\n      <td>0</td>\n      <td>0</td>\n      <td>0</td>\n    </tr>\n  </tbody>\n</table>\n<p>5 rows × 27 columns</p>\n</div>"
     },
     "metadata": {},
     "execution_count": 5
    }
   ],
   "source": [
    "df_edge.head()"
   ]
  },
  {
   "cell_type": "code",
   "execution_count": 6,
   "metadata": {},
   "outputs": [],
   "source": [
    "df_edge['osmNodeIdUV'] = df_edge.tags.apply(lambda x: tuple(list(map(int, x[1:-1].split(\", \")))[:-1]))"
   ]
  },
  {
   "cell_type": "code",
   "execution_count": 7,
   "metadata": {},
   "outputs": [
    {
     "output_type": "execute_result",
     "data": {
      "text/plain": [
       "   network_id                 osmid                        tags  \\\n",
       "0      408526  [636154193, 6012871]     (34504451, 33826567, 0)   \n",
       "1      391523  [636154193, 5998138]     (33826567, 33308886, 0)   \n",
       "2      347664  [636154193, 5998138]     (33308886, 33826567, 0)   \n",
       "3      391522  [636154193, 6012871]     (33826567, 34504451, 0)   \n",
       "4      477837               6012871  (6960167568, 375477545, 0)   \n",
       "\n",
       "            index trip_id  position road_type  average_speed  speed_limit  \\\n",
       "0   (1650, 13590)  (0, 1)         1  tertiary       6.367262       56.315   \n",
       "1  (13590, 13740)  (0, 1)         2  tertiary      21.977953       56.315   \n",
       "2  (13740, 14070)  (0, 1)         3  tertiary      15.799874       56.315   \n",
       "3  (14070, 14790)  (0, 1)         4  tertiary      23.135569       56.315   \n",
       "4  (14790, 15090)  (0, 1)         5  tertiary      45.601827       56.315   \n",
       "\n",
       "      mass  ...                                        direction  \\\n",
       "0   8000.0  ...  [0.00023500000000353793, 0.0004609999999871661]   \n",
       "1  30000.0  ...   [0.0007799999999988927, 2.500000000793534e-05]   \n",
       "2  30000.0  ...  [0.0009549999999975967, 1.9999999949504854e-06]   \n",
       "3  30000.0  ...  [-0.0019369999999980791, 0.0032980000000009113]   \n",
       "4  30000.0  ...    [-0.00288900000000325, 0.0024920000000037135]   \n",
       "\n",
       "   direction_angle  time_stage  week_day                    time_acc  lanes  \\\n",
       "0        62.989269           2         1         2020-08-10 06:02:00      2   \n",
       "1         1.835775           2         1  2020-08-10 06:48:26.100000      2   \n",
       "2         0.119991           2         1  2020-08-10 06:48:41.100000      2   \n",
       "3       120.426809           2         1  2020-08-10 06:49:14.100000      2   \n",
       "4       139.219529           2         1  2020-08-10 06:50:26.100000      2   \n",
       "\n",
       "   bridge endpoint_u endpoint_v              osmNodeIdUV  \n",
       "0       0          0          0     (34504451, 33826567)  \n",
       "1       0          0          6     (33826567, 33308886)  \n",
       "2       0          6          0     (33308886, 33826567)  \n",
       "3       0          0          0     (33826567, 34504451)  \n",
       "4       0          0          0  (6960167568, 375477545)  \n",
       "\n",
       "[5 rows x 28 columns]"
      ],
      "text/html": "<div>\n<style scoped>\n    .dataframe tbody tr th:only-of-type {\n        vertical-align: middle;\n    }\n\n    .dataframe tbody tr th {\n        vertical-align: top;\n    }\n\n    .dataframe thead th {\n        text-align: right;\n    }\n</style>\n<table border=\"1\" class=\"dataframe\">\n  <thead>\n    <tr style=\"text-align: right;\">\n      <th></th>\n      <th>network_id</th>\n      <th>osmid</th>\n      <th>tags</th>\n      <th>index</th>\n      <th>trip_id</th>\n      <th>position</th>\n      <th>road_type</th>\n      <th>average_speed</th>\n      <th>speed_limit</th>\n      <th>mass</th>\n      <th>...</th>\n      <th>direction</th>\n      <th>direction_angle</th>\n      <th>time_stage</th>\n      <th>week_day</th>\n      <th>time_acc</th>\n      <th>lanes</th>\n      <th>bridge</th>\n      <th>endpoint_u</th>\n      <th>endpoint_v</th>\n      <th>osmNodeIdUV</th>\n    </tr>\n  </thead>\n  <tbody>\n    <tr>\n      <th>0</th>\n      <td>408526</td>\n      <td>[636154193, 6012871]</td>\n      <td>(34504451, 33826567, 0)</td>\n      <td>(1650, 13590)</td>\n      <td>(0, 1)</td>\n      <td>1</td>\n      <td>tertiary</td>\n      <td>6.367262</td>\n      <td>56.315</td>\n      <td>8000.0</td>\n      <td>...</td>\n      <td>[0.00023500000000353793, 0.0004609999999871661]</td>\n      <td>62.989269</td>\n      <td>2</td>\n      <td>1</td>\n      <td>2020-08-10 06:02:00</td>\n      <td>2</td>\n      <td>0</td>\n      <td>0</td>\n      <td>0</td>\n      <td>(34504451, 33826567)</td>\n    </tr>\n    <tr>\n      <th>1</th>\n      <td>391523</td>\n      <td>[636154193, 5998138]</td>\n      <td>(33826567, 33308886, 0)</td>\n      <td>(13590, 13740)</td>\n      <td>(0, 1)</td>\n      <td>2</td>\n      <td>tertiary</td>\n      <td>21.977953</td>\n      <td>56.315</td>\n      <td>30000.0</td>\n      <td>...</td>\n      <td>[0.0007799999999988927, 2.500000000793534e-05]</td>\n      <td>1.835775</td>\n      <td>2</td>\n      <td>1</td>\n      <td>2020-08-10 06:48:26.100000</td>\n      <td>2</td>\n      <td>0</td>\n      <td>0</td>\n      <td>6</td>\n      <td>(33826567, 33308886)</td>\n    </tr>\n    <tr>\n      <th>2</th>\n      <td>347664</td>\n      <td>[636154193, 5998138]</td>\n      <td>(33308886, 33826567, 0)</td>\n      <td>(13740, 14070)</td>\n      <td>(0, 1)</td>\n      <td>3</td>\n      <td>tertiary</td>\n      <td>15.799874</td>\n      <td>56.315</td>\n      <td>30000.0</td>\n      <td>...</td>\n      <td>[0.0009549999999975967, 1.9999999949504854e-06]</td>\n      <td>0.119991</td>\n      <td>2</td>\n      <td>1</td>\n      <td>2020-08-10 06:48:41.100000</td>\n      <td>2</td>\n      <td>0</td>\n      <td>6</td>\n      <td>0</td>\n      <td>(33308886, 33826567)</td>\n    </tr>\n    <tr>\n      <th>3</th>\n      <td>391522</td>\n      <td>[636154193, 6012871]</td>\n      <td>(33826567, 34504451, 0)</td>\n      <td>(14070, 14790)</td>\n      <td>(0, 1)</td>\n      <td>4</td>\n      <td>tertiary</td>\n      <td>23.135569</td>\n      <td>56.315</td>\n      <td>30000.0</td>\n      <td>...</td>\n      <td>[-0.0019369999999980791, 0.0032980000000009113]</td>\n      <td>120.426809</td>\n      <td>2</td>\n      <td>1</td>\n      <td>2020-08-10 06:49:14.100000</td>\n      <td>2</td>\n      <td>0</td>\n      <td>0</td>\n      <td>0</td>\n      <td>(33826567, 34504451)</td>\n    </tr>\n    <tr>\n      <th>4</th>\n      <td>477837</td>\n      <td>6012871</td>\n      <td>(6960167568, 375477545, 0)</td>\n      <td>(14790, 15090)</td>\n      <td>(0, 1)</td>\n      <td>5</td>\n      <td>tertiary</td>\n      <td>45.601827</td>\n      <td>56.315</td>\n      <td>30000.0</td>\n      <td>...</td>\n      <td>[-0.00288900000000325, 0.0024920000000037135]</td>\n      <td>139.219529</td>\n      <td>2</td>\n      <td>1</td>\n      <td>2020-08-10 06:50:26.100000</td>\n      <td>2</td>\n      <td>0</td>\n      <td>0</td>\n      <td>0</td>\n      <td>(6960167568, 375477545)</td>\n    </tr>\n  </tbody>\n</table>\n<p>5 rows × 28 columns</p>\n</div>"
     },
     "metadata": {},
     "execution_count": 7
    }
   ],
   "source": [
    "df_edge.head()"
   ]
  },
  {
   "cell_type": "code",
   "execution_count": 10,
   "metadata": {},
   "outputs": [],
   "source": [
    "segmentsElevation = dict()\n",
    "for i in range(len(df_edge)):\n",
    "    osmNode = df_edge.loc[i,'osmNodeIdUV']\n",
    "    reverseNode = osmNode[::-1]\n",
    "    if osmNode not in segmentsElevation:\n",
    "        segmentsElevation[osmNode] = df_edge.loc[i,'elevation_change']\n",
    "    if reverseNode not in segmentsElevation:\n",
    "        segmentsElevation[reverseNode] = -df_edge.loc[i,'elevation_change']"
   ]
  },
  {
   "cell_type": "code",
   "execution_count": 11,
   "metadata": {},
   "outputs": [
    {
     "output_type": "execute_result",
     "data": {
      "text/plain": [
       "16321"
      ]
     },
     "metadata": {},
     "execution_count": 11
    }
   ],
   "source": [
    "len(segmentsElevation)"
   ]
  },
  {
   "cell_type": "code",
   "execution_count": 13,
   "metadata": {},
   "outputs": [
    {
     "output_type": "execute_result",
     "data": {
      "text/plain": [
       "0.6000000000000227"
      ]
     },
     "metadata": {},
     "execution_count": 13
    }
   ],
   "source": [
    "segmentsElevation[(33295092, 33800025)]"
   ]
  },
  {
   "cell_type": "code",
   "execution_count": 14,
   "metadata": {},
   "outputs": [],
   "source": [
    "import csv\n",
    "output_root = \"segmentElevationChange.csv\"\n",
    "csvFile = open(output_root, \"w\")\n",
    "writer = csv.writer(csvFile)\n",
    "writer.writerow([\"uvPair\", \"elevation change\"])\n",
    "for i in segmentsElevation:\n",
    "    writer.writerow([i, segmentsElevation[i]])\n",
    "csvFile.close()\n",
    "np.save('segmentElevationChange.npy', segmentsElevation)"
   ]
  },
  {
   "cell_type": "code",
   "execution_count": null,
   "metadata": {},
   "outputs": [],
   "source": []
  }
 ]
}