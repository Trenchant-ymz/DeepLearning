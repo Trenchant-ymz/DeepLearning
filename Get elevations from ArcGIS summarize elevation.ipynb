{
 "cells": [
  {
   "cell_type": "markdown",
   "metadata": {},
   "source": [
    "# Get elevations from ArcGIS summarize_elevation"
   ]
  },
  {
   "cell_type": "code",
   "execution_count": 2,
   "metadata": {},
   "outputs": [],
   "source": [
    "import os\n",
    "from datetime import datetime\n",
    "from getpass import getpass\n",
    "\n",
    "import pandas as pd"
   ]
  },
  {
   "cell_type": "code",
   "execution_count": 57,
   "metadata": {},
   "outputs": [],
   "source": [
    "from arcgis import GIS\n",
    "from arcgis.features import GeoAccessor, GeoSeriesAccessor\n",
    "from arcgis.features.elevation import summarize_elevation"
   ]
  },
  {
   "cell_type": "code",
   "execution_count": 63,
   "metadata": {},
   "outputs": [],
   "source": [
    "p=getpass('input your password')"
   ]
  },
  {
   "cell_type": "code",
   "execution_count": 61,
   "metadata": {},
   "outputs": [
    {
     "output_type": "execute_result",
     "data": {
      "text/plain": [
       "''"
      ]
     },
     "metadata": {},
     "execution_count": 61
    }
   ],
   "source": [
    "p"
   ]
  },
  {
   "cell_type": "code",
   "execution_count": 64,
   "metadata": {},
   "outputs": [
    {
     "output_type": "error",
     "ename": "Exception",
     "evalue": "Unable to generate token.\nInvalid username or password.\n(Error Code: 400)",
     "traceback": [
      "\u001b[1;31m---------------------------------------------------------------------------\u001b[0m",
      "\u001b[1;31mException\u001b[0m                                 Traceback (most recent call last)",
      "\u001b[1;32m<ipython-input-64-32ee52a55215>\u001b[0m in \u001b[0;36m<module>\u001b[1;34m\u001b[0m\n\u001b[1;32m----> 1\u001b[1;33m gis = GIS(\n\u001b[0m\u001b[0;32m      2\u001b[0m     \u001b[1;34m\"https://umn.maps.arcgis.com/\"\u001b[0m\u001b[1;33m,\u001b[0m\u001b[1;33m\u001b[0m\u001b[1;33m\u001b[0m\u001b[0m\n\u001b[0;32m      3\u001b[0m     \u001b[0musername\u001b[0m\u001b[1;33m=\u001b[0m\u001b[1;34m\"yang7492_UMN\"\u001b[0m\u001b[1;33m,\u001b[0m\u001b[1;33m\u001b[0m\u001b[1;33m\u001b[0m\u001b[0m\n\u001b[0;32m      4\u001b[0m     \u001b[0mpassword\u001b[0m\u001b[1;33m=\u001b[0m\u001b[0mgetpass\u001b[0m\u001b[1;33m(\u001b[0m\u001b[1;34m\"Password: \"\u001b[0m\u001b[1;33m)\u001b[0m\u001b[1;33m,\u001b[0m\u001b[1;33m\u001b[0m\u001b[1;33m\u001b[0m\u001b[0m\n\u001b[0;32m      5\u001b[0m )\n",
      "\u001b[1;32m~\\Anaconda3\\lib\\site-packages\\arcgis\\gis\\__init__.py\u001b[0m in \u001b[0;36m__init__\u001b[1;34m(self, url, username, password, key_file, cert_file, verify_cert, set_active, client_id, profile, **kwargs)\u001b[0m\n\u001b[0;32m    357\u001b[0m                                    \"argument when connecting to the GIS.\")\n\u001b[0;32m    358\u001b[0m             \u001b[1;32melse\u001b[0m\u001b[1;33m:\u001b[0m\u001b[1;33m\u001b[0m\u001b[1;33m\u001b[0m\u001b[0m\n\u001b[1;32m--> 359\u001b[1;33m                 \u001b[1;32mraise\u001b[0m \u001b[0me\u001b[0m\u001b[1;33m\u001b[0m\u001b[1;33m\u001b[0m\u001b[0m\n\u001b[0m\u001b[0;32m    360\u001b[0m         \u001b[1;32mtry\u001b[0m\u001b[1;33m:\u001b[0m\u001b[1;33m\u001b[0m\u001b[1;33m\u001b[0m\u001b[0m\n\u001b[0;32m    361\u001b[0m             \u001b[1;32mif\u001b[0m \u001b[0murl\u001b[0m\u001b[1;33m.\u001b[0m\u001b[0mlower\u001b[0m\u001b[1;33m(\u001b[0m\u001b[1;33m)\u001b[0m\u001b[1;33m.\u001b[0m\u001b[0mfind\u001b[0m\u001b[1;33m(\u001b[0m\u001b[1;34m\"arcgis.com\"\u001b[0m\u001b[1;33m)\u001b[0m \u001b[1;33m>\u001b[0m \u001b[1;33m-\u001b[0m\u001b[1;36m1\u001b[0m \u001b[1;32mand\u001b[0m\u001b[0;31m \u001b[0m\u001b[0;31m\\\u001b[0m\u001b[1;33m\u001b[0m\u001b[1;33m\u001b[0m\u001b[0m\n",
      "\u001b[1;32m~\\Anaconda3\\lib\\site-packages\\arcgis\\gis\\__init__.py\u001b[0m in \u001b[0;36m__init__\u001b[1;34m(self, url, username, password, key_file, cert_file, verify_cert, set_active, client_id, profile, **kwargs)\u001b[0m\n\u001b[0;32m    330\u001b[0m             \u001b[0mself\u001b[0m\u001b[1;33m.\u001b[0m\u001b[0m_expiration\u001b[0m \u001b[1;33m=\u001b[0m \u001b[1;36m60\u001b[0m\u001b[1;33m\u001b[0m\u001b[1;33m\u001b[0m\u001b[0m\n\u001b[0;32m    331\u001b[0m         \u001b[1;32mtry\u001b[0m\u001b[1;33m:\u001b[0m\u001b[1;33m\u001b[0m\u001b[1;33m\u001b[0m\u001b[0m\n\u001b[1;32m--> 332\u001b[1;33m             self._portal = _portalpy.Portal(self._url, self._username,\n\u001b[0m\u001b[0;32m    333\u001b[0m                                            \u001b[0mself\u001b[0m\u001b[1;33m.\u001b[0m\u001b[0m_password\u001b[0m\u001b[1;33m,\u001b[0m \u001b[0mself\u001b[0m\u001b[1;33m.\u001b[0m\u001b[0m_key_file\u001b[0m\u001b[1;33m,\u001b[0m\u001b[1;33m\u001b[0m\u001b[1;33m\u001b[0m\u001b[0m\n\u001b[0;32m    334\u001b[0m                                            \u001b[0mself\u001b[0m\u001b[1;33m.\u001b[0m\u001b[0m_cert_file\u001b[0m\u001b[1;33m,\u001b[0m\u001b[1;33m\u001b[0m\u001b[1;33m\u001b[0m\u001b[0m\n",
      "\u001b[1;32m~\\Anaconda3\\lib\\site-packages\\arcgis\\gis\\_impl\\_portalpy.py\u001b[0m in \u001b[0;36m__init__\u001b[1;34m(self, url, username, password, key_file, cert_file, expiration, referer, proxy_host, proxy_port, connection, workdir, tokenurl, verify_cert, client_id, custom_auth, token, **kwargs)\u001b[0m\n\u001b[0;32m    171\u001b[0m                                       trust_env=trust_env)\n\u001b[0;32m    172\u001b[0m         \u001b[1;31m#self.get_version(True)\u001b[0m\u001b[1;33m\u001b[0m\u001b[1;33m\u001b[0m\u001b[1;33m\u001b[0m\u001b[0m\n\u001b[1;32m--> 173\u001b[1;33m         \u001b[0mself\u001b[0m\u001b[1;33m.\u001b[0m\u001b[0mget_properties\u001b[0m\u001b[1;33m(\u001b[0m\u001b[1;32mTrue\u001b[0m\u001b[1;33m)\u001b[0m\u001b[1;33m\u001b[0m\u001b[1;33m\u001b[0m\u001b[0m\n\u001b[0m\u001b[0;32m    174\u001b[0m \u001b[1;33m\u001b[0m\u001b[0m\n\u001b[0;32m    175\u001b[0m \u001b[1;33m\u001b[0m\u001b[0m\n",
      "\u001b[1;32m~\\Anaconda3\\lib\\site-packages\\arcgis\\gis\\_impl\\_portalpy.py\u001b[0m in \u001b[0;36mget_properties\u001b[1;34m(self, force)\u001b[0m\n\u001b[0;32m   1136\u001b[0m                     \u001b[0mresp\u001b[0m \u001b[1;33m=\u001b[0m \u001b[0mself\u001b[0m\u001b[1;33m.\u001b[0m\u001b[0mcon\u001b[0m\u001b[1;33m.\u001b[0m\u001b[0mget\u001b[0m\u001b[1;33m(\u001b[0m\u001b[0mpath\u001b[0m\u001b[1;33m,\u001b[0m \u001b[0mssl\u001b[0m\u001b[1;33m=\u001b[0m\u001b[1;32mTrue\u001b[0m\u001b[1;33m)\u001b[0m \u001b[1;31m# issue seen with key, cert auth\u001b[0m\u001b[1;33m\u001b[0m\u001b[1;33m\u001b[0m\u001b[0m\n\u001b[0;32m   1137\u001b[0m                 \u001b[1;32mif\u001b[0m \u001b[1;32mnot\u001b[0m \u001b[0mresp\u001b[0m\u001b[1;33m:\u001b[0m\u001b[1;33m\u001b[0m\u001b[1;33m\u001b[0m\u001b[0m\n\u001b[1;32m-> 1138\u001b[1;33m                     \u001b[1;32mraise\u001b[0m \u001b[0me\u001b[0m\u001b[1;33m\u001b[0m\u001b[1;33m\u001b[0m\u001b[0m\n\u001b[0m\u001b[0;32m   1139\u001b[0m \u001b[1;33m\u001b[0m\u001b[0m\n\u001b[0;32m   1140\u001b[0m             \u001b[1;32mif\u001b[0m \u001b[0mresp\u001b[0m\u001b[1;33m:\u001b[0m\u001b[1;33m\u001b[0m\u001b[1;33m\u001b[0m\u001b[0m\n",
      "\u001b[1;32m~\\Anaconda3\\lib\\site-packages\\arcgis\\gis\\_impl\\_portalpy.py\u001b[0m in \u001b[0;36mget_properties\u001b[1;34m(self, force)\u001b[0m\n\u001b[0;32m   1124\u001b[0m             \u001b[0mresp\u001b[0m \u001b[1;33m=\u001b[0m \u001b[1;32mNone\u001b[0m\u001b[1;33m\u001b[0m\u001b[1;33m\u001b[0m\u001b[0m\n\u001b[0;32m   1125\u001b[0m             \u001b[1;32mtry\u001b[0m\u001b[1;33m:\u001b[0m\u001b[1;33m\u001b[0m\u001b[1;33m\u001b[0m\u001b[0m\n\u001b[1;32m-> 1126\u001b[1;33m                 \u001b[0mresp\u001b[0m \u001b[1;33m=\u001b[0m \u001b[0mself\u001b[0m\u001b[1;33m.\u001b[0m\u001b[0mcon\u001b[0m\u001b[1;33m.\u001b[0m\u001b[0mpost\u001b[0m\u001b[1;33m(\u001b[0m\u001b[0mpath\u001b[0m\u001b[1;33m,\u001b[0m \u001b[0mself\u001b[0m\u001b[1;33m.\u001b[0m\u001b[0m_postdata\u001b[0m\u001b[1;33m(\u001b[0m\u001b[1;33m)\u001b[0m\u001b[1;33m,\u001b[0m \u001b[0mssl\u001b[0m\u001b[1;33m=\u001b[0m\u001b[1;32mTrue\u001b[0m\u001b[1;33m)\u001b[0m\u001b[1;33m\u001b[0m\u001b[1;33m\u001b[0m\u001b[0m\n\u001b[0m\u001b[0;32m   1127\u001b[0m             \u001b[1;32mexcept\u001b[0m \u001b[0mException\u001b[0m \u001b[1;32mas\u001b[0m \u001b[0me\u001b[0m\u001b[1;33m:\u001b[0m\u001b[1;33m\u001b[0m\u001b[1;33m\u001b[0m\u001b[0m\n\u001b[0;32m   1128\u001b[0m                 \u001b[1;32mif\u001b[0m \u001b[1;32mnot\u001b[0m \u001b[0mself\u001b[0m\u001b[1;33m.\u001b[0m\u001b[0mcon\u001b[0m\u001b[1;33m.\u001b[0m\u001b[0m_verify_cert\u001b[0m \u001b[1;32mand\u001b[0m\u001b[0;31m \u001b[0m\u001b[0;31m\\\u001b[0m\u001b[1;33m\u001b[0m\u001b[1;33m\u001b[0m\u001b[0m\n",
      "\u001b[1;32m~\\Anaconda3\\lib\\site-packages\\arcgis\\gis\\_impl\\_con\\_connection.py\u001b[0m in \u001b[0;36mpost\u001b[1;34m(self, path, params, files, **kwargs)\u001b[0m\n\u001b[0;32m    630\u001b[0m                     \u001b[0mparams\u001b[0m\u001b[1;33m.\u001b[0m\u001b[0mpop\u001b[0m\u001b[1;33m(\u001b[0m\u001b[1;34m'token'\u001b[0m\u001b[1;33m,\u001b[0m \u001b[1;32mNone\u001b[0m\u001b[1;33m)\u001b[0m\u001b[1;33m\u001b[0m\u001b[1;33m\u001b[0m\u001b[0m\n\u001b[0;32m    631\u001b[0m                     \u001b[1;31m#pass\u001b[0m\u001b[1;33m\u001b[0m\u001b[1;33m\u001b[0m\u001b[1;33m\u001b[0m\u001b[0m\n\u001b[1;32m--> 632\u001b[1;33m             \u001b[1;32melif\u001b[0m \u001b[0mtoken_as_header\u001b[0m \u001b[1;33m==\u001b[0m \u001b[1;32mFalse\u001b[0m \u001b[1;32mand\u001b[0m \u001b[0mself\u001b[0m\u001b[1;33m.\u001b[0m\u001b[0mtoken\u001b[0m \u001b[1;32mis\u001b[0m \u001b[1;32mnot\u001b[0m \u001b[1;32mNone\u001b[0m\u001b[1;33m:\u001b[0m \u001b[1;31m#as ?token=\u001b[0m\u001b[1;33m\u001b[0m\u001b[1;33m\u001b[0m\u001b[0m\n\u001b[0m\u001b[0;32m    633\u001b[0m                 \u001b[0mparams\u001b[0m\u001b[1;33m[\u001b[0m\u001b[1;34m'token'\u001b[0m\u001b[1;33m]\u001b[0m \u001b[1;33m=\u001b[0m \u001b[0mself\u001b[0m\u001b[1;33m.\u001b[0m\u001b[0mtoken\u001b[0m\u001b[1;33m\u001b[0m\u001b[1;33m\u001b[0m\u001b[0m\n\u001b[0;32m    634\u001b[0m             \u001b[1;32melif\u001b[0m \u001b[0mtoken_as_header\u001b[0m \u001b[1;32mand\u001b[0m \u001b[0mself\u001b[0m\u001b[1;33m.\u001b[0m\u001b[0mtoken\u001b[0m \u001b[1;32mis\u001b[0m \u001b[1;32mnot\u001b[0m \u001b[1;32mNone\u001b[0m\u001b[1;33m:\u001b[0m\u001b[1;31m#(token and token != _DEFAULT_TOKEN): # as X-Esri-Auth header with given token\u001b[0m\u001b[1;33m\u001b[0m\u001b[1;33m\u001b[0m\u001b[0m\n",
      "\u001b[1;32m~\\Anaconda3\\lib\\site-packages\\arcgis\\gis\\_impl\\_con\\_connection.py\u001b[0m in \u001b[0;36mtoken\u001b[1;34m(self)\u001b[0m\n\u001b[0;32m   1036\u001b[0m                                    \"AGO\", \"ENTERPRISE\"] and \\\n\u001b[0;32m   1037\u001b[0m                  \u001b[0mself\u001b[0m\u001b[1;33m.\u001b[0m\u001b[0m_auth\u001b[0m \u001b[1;33m==\u001b[0m \u001b[1;34m\"BUILTIN\"\u001b[0m\u001b[1;33m:\u001b[0m\u001b[1;33m\u001b[0m\u001b[1;33m\u001b[0m\u001b[0m\n\u001b[1;32m-> 1038\u001b[1;33m                 \u001b[0mself\u001b[0m\u001b[1;33m.\u001b[0m\u001b[0m_token\u001b[0m \u001b[1;33m=\u001b[0m \u001b[0mself\u001b[0m\u001b[1;33m.\u001b[0m\u001b[0m_enterprise_token\u001b[0m\u001b[1;33m(\u001b[0m\u001b[1;33m)\u001b[0m\u001b[1;33m\u001b[0m\u001b[1;33m\u001b[0m\u001b[0m\n\u001b[0m\u001b[0;32m   1039\u001b[0m                 \u001b[1;32mreturn\u001b[0m \u001b[0mself\u001b[0m\u001b[1;33m.\u001b[0m\u001b[0m_token\u001b[0m\u001b[1;33m\u001b[0m\u001b[1;33m\u001b[0m\u001b[0m\n\u001b[0;32m   1040\u001b[0m             \u001b[1;32melse\u001b[0m\u001b[1;33m:\u001b[0m\u001b[1;33m\u001b[0m\u001b[1;33m\u001b[0m\u001b[0m\n",
      "\u001b[1;32m~\\Anaconda3\\lib\\site-packages\\arcgis\\gis\\_impl\\_con\\_connection.py\u001b[0m in \u001b[0;36m_enterprise_token\u001b[1;34m(self)\u001b[0m\n\u001b[0;32m   1151\u001b[0m                                                                                 path.split('/')[0])\n\u001b[0;32m   1152\u001b[0m \u001b[1;33m\u001b[0m\u001b[0m\n\u001b[1;32m-> 1153\u001b[1;33m         res = self.post(path=self._token_url,\n\u001b[0m\u001b[0;32m   1154\u001b[0m                         \u001b[0mparams\u001b[0m\u001b[1;33m=\u001b[0m\u001b[0mpostdata\u001b[0m\u001b[1;33m,\u001b[0m\u001b[1;33m\u001b[0m\u001b[1;33m\u001b[0m\u001b[0m\n\u001b[0;32m   1155\u001b[0m                         add_token=False)\n",
      "\u001b[1;32m~\\Anaconda3\\lib\\site-packages\\arcgis\\gis\\_impl\\_con\\_connection.py\u001b[0m in \u001b[0;36mpost\u001b[1;34m(self, path, params, files, **kwargs)\u001b[0m\n\u001b[0;32m    714\u001b[0m                 'An unknown error occurred: %s' % traceback.format_exc())\n\u001b[0;32m    715\u001b[0m \u001b[1;33m\u001b[0m\u001b[0m\n\u001b[1;32m--> 716\u001b[1;33m         return self._handle_response(resp=resp,\n\u001b[0m\u001b[0;32m    717\u001b[0m                                      \u001b[0mout_path\u001b[0m\u001b[1;33m=\u001b[0m\u001b[0mout_path\u001b[0m\u001b[1;33m,\u001b[0m\u001b[1;33m\u001b[0m\u001b[1;33m\u001b[0m\u001b[0m\n\u001b[0;32m    718\u001b[0m                                      \u001b[0mfile_name\u001b[0m\u001b[1;33m=\u001b[0m\u001b[0mfile_name\u001b[0m\u001b[1;33m,\u001b[0m\u001b[1;33m\u001b[0m\u001b[1;33m\u001b[0m\u001b[0m\n",
      "\u001b[1;32m~\\Anaconda3\\lib\\site-packages\\arcgis\\gis\\_impl\\_con\\_connection.py\u001b[0m in \u001b[0;36m_handle_response\u001b[1;34m(self, resp, file_name, out_path, try_json, force_bytes)\u001b[0m\n\u001b[0;32m    512\u001b[0m                     \u001b[1;32mreturn\u001b[0m \u001b[0mdata\u001b[0m\u001b[1;33m\u001b[0m\u001b[1;33m\u001b[0m\u001b[0m\n\u001b[0;32m    513\u001b[0m                 \u001b[0merrorcode\u001b[0m \u001b[1;33m=\u001b[0m \u001b[0mdata\u001b[0m\u001b[1;33m[\u001b[0m\u001b[1;34m'error'\u001b[0m\u001b[1;33m]\u001b[0m\u001b[1;33m[\u001b[0m\u001b[1;34m'code'\u001b[0m\u001b[1;33m]\u001b[0m \u001b[1;32mif\u001b[0m \u001b[1;34m'code'\u001b[0m \u001b[1;32min\u001b[0m \u001b[0mdata\u001b[0m\u001b[1;33m[\u001b[0m\u001b[1;34m'error'\u001b[0m\u001b[1;33m]\u001b[0m \u001b[1;32melse\u001b[0m \u001b[1;36m0\u001b[0m\u001b[1;33m\u001b[0m\u001b[1;33m\u001b[0m\u001b[0m\n\u001b[1;32m--> 514\u001b[1;33m                 \u001b[0mself\u001b[0m\u001b[1;33m.\u001b[0m\u001b[0m_handle_json_error\u001b[0m\u001b[1;33m(\u001b[0m\u001b[0mdata\u001b[0m\u001b[1;33m[\u001b[0m\u001b[1;34m'error'\u001b[0m\u001b[1;33m]\u001b[0m\u001b[1;33m,\u001b[0m \u001b[0merrorcode\u001b[0m\u001b[1;33m)\u001b[0m\u001b[1;33m\u001b[0m\u001b[1;33m\u001b[0m\u001b[0m\n\u001b[0m\u001b[0;32m    515\u001b[0m             \u001b[1;32mreturn\u001b[0m \u001b[0mdata\u001b[0m\u001b[1;33m\u001b[0m\u001b[1;33m\u001b[0m\u001b[0m\n\u001b[0;32m    516\u001b[0m         \u001b[1;32melse\u001b[0m\u001b[1;33m:\u001b[0m\u001b[1;33m\u001b[0m\u001b[1;33m\u001b[0m\u001b[0m\n",
      "\u001b[1;32m~\\Anaconda3\\lib\\site-packages\\arcgis\\gis\\_impl\\_con\\_connection.py\u001b[0m in \u001b[0;36m_handle_json_error\u001b[1;34m(self, error, errorcode)\u001b[0m\n\u001b[0;32m    534\u001b[0m \u001b[1;33m\u001b[0m\u001b[0m\n\u001b[0;32m    535\u001b[0m         \u001b[0merrormessage\u001b[0m \u001b[1;33m=\u001b[0m \u001b[0merrormessage\u001b[0m \u001b[1;33m+\u001b[0m \u001b[1;34m\"\\n(Error Code: \"\u001b[0m \u001b[1;33m+\u001b[0m \u001b[0mstr\u001b[0m\u001b[1;33m(\u001b[0m\u001b[0merrorcode\u001b[0m\u001b[1;33m)\u001b[0m \u001b[1;33m+\u001b[0m\u001b[1;34m\")\"\u001b[0m\u001b[1;33m\u001b[0m\u001b[1;33m\u001b[0m\u001b[0m\n\u001b[1;32m--> 536\u001b[1;33m         \u001b[1;32mraise\u001b[0m \u001b[0mException\u001b[0m\u001b[1;33m(\u001b[0m\u001b[0merrormessage\u001b[0m\u001b[1;33m)\u001b[0m\u001b[1;33m\u001b[0m\u001b[1;33m\u001b[0m\u001b[0m\n\u001b[0m\u001b[0;32m    537\u001b[0m     \u001b[1;31m#----------------------------------------------------------------------\u001b[0m\u001b[1;33m\u001b[0m\u001b[1;33m\u001b[0m\u001b[1;33m\u001b[0m\u001b[0m\n\u001b[0;32m    538\u001b[0m     def post(self,\n",
      "\u001b[1;31mException\u001b[0m: Unable to generate token.\nInvalid username or password.\n(Error Code: 400)"
     ]
    }
   ],
   "source": [
    "gis = GIS(\n",
    "    \"https://umn.maps.arcgis.com/\",\n",
    "    username=\"yang7492_UMN\",\n",
    "    password=getpass(\"Password: \"),\n",
    ")"
   ]
  },
  {
   "cell_type": "code",
   "execution_count": 36,
   "metadata": {},
   "outputs": [
    {
     "output_type": "stream",
     "name": "stderr",
     "text": [
      "C:\\Users\\mingzhou\\Anaconda3\\lib\\site-packages\\IPython\\core\\interactiveshell.py:3146: DtypeWarning: Columns (1,2) have mixed types.Specify dtype option on import or set low_memory=False.\n  has_raised = await self.run_ast_nodes(code_ast.body, cell_name,\n"
     ]
    }
   ],
   "source": [
    "df = pd.read_csv(\"TL5-218_2020W33_gps.csv\",header=0,usecols=['gps_Longitude','gps_Latitude'])\n",
    "df.drop(df.index[0],inplace=True)"
   ]
  },
  {
   "cell_type": "code",
   "execution_count": 37,
   "metadata": {},
   "outputs": [
    {
     "output_type": "execute_result",
     "data": {
      "text/plain": [
       "       gps_Latitude gps_Longitude\n",
       "1         44.980866    -93.219328\n",
       "2         44.980866    -93.219328\n",
       "3         44.980866    -93.219328\n",
       "4         44.980865    -93.219328\n",
       "5         44.980865    -93.219328\n",
       "...             ...           ...\n",
       "690448      44.9512      -92.8223\n",
       "690449      44.9512      -92.8223\n",
       "690450      44.9512      -92.8223\n",
       "690451      44.9512      -92.8223\n",
       "690452      44.9512      -92.8223\n",
       "\n",
       "[690452 rows x 2 columns]"
      ],
      "text/html": "<div>\n<style scoped>\n    .dataframe tbody tr th:only-of-type {\n        vertical-align: middle;\n    }\n\n    .dataframe tbody tr th {\n        vertical-align: top;\n    }\n\n    .dataframe thead th {\n        text-align: right;\n    }\n</style>\n<table border=\"1\" class=\"dataframe\">\n  <thead>\n    <tr style=\"text-align: right;\">\n      <th></th>\n      <th>gps_Latitude</th>\n      <th>gps_Longitude</th>\n    </tr>\n  </thead>\n  <tbody>\n    <tr>\n      <th>1</th>\n      <td>44.980866</td>\n      <td>-93.219328</td>\n    </tr>\n    <tr>\n      <th>2</th>\n      <td>44.980866</td>\n      <td>-93.219328</td>\n    </tr>\n    <tr>\n      <th>3</th>\n      <td>44.980866</td>\n      <td>-93.219328</td>\n    </tr>\n    <tr>\n      <th>4</th>\n      <td>44.980865</td>\n      <td>-93.219328</td>\n    </tr>\n    <tr>\n      <th>5</th>\n      <td>44.980865</td>\n      <td>-93.219328</td>\n    </tr>\n    <tr>\n      <th>...</th>\n      <td>...</td>\n      <td>...</td>\n    </tr>\n    <tr>\n      <th>690448</th>\n      <td>44.9512</td>\n      <td>-92.8223</td>\n    </tr>\n    <tr>\n      <th>690449</th>\n      <td>44.9512</td>\n      <td>-92.8223</td>\n    </tr>\n    <tr>\n      <th>690450</th>\n      <td>44.9512</td>\n      <td>-92.8223</td>\n    </tr>\n    <tr>\n      <th>690451</th>\n      <td>44.9512</td>\n      <td>-92.8223</td>\n    </tr>\n    <tr>\n      <th>690452</th>\n      <td>44.9512</td>\n      <td>-92.8223</td>\n    </tr>\n  </tbody>\n</table>\n<p>690452 rows × 2 columns</p>\n</div>"
     },
     "metadata": {},
     "execution_count": 37
    }
   ],
   "source": [
    "df"
   ]
  },
  {
   "cell_type": "code",
   "execution_count": 38,
   "metadata": {},
   "outputs": [],
   "source": [
    "df = df.sort_values([\"gps_Longitude\", \"gps_Latitude\"])"
   ]
  },
  {
   "cell_type": "code",
   "execution_count": 39,
   "metadata": {},
   "outputs": [
    {
     "output_type": "execute_result",
     "data": {
      "text/plain": [
       "       gps_Latitude gps_Longitude\n",
       "386105     -214.748      -214.748\n",
       "386106     -214.748      -214.748\n",
       "386107     -214.748      -214.748\n",
       "386108     -214.748      -214.748\n",
       "386109     -214.748      -214.748\n",
       "...             ...           ...\n",
       "157661    44.786842    -93.469918\n",
       "157662    44.786842    -93.469918\n",
       "157663    44.786842    -93.469918\n",
       "157664     44.78682    -93.469919\n",
       "157665     44.78682    -93.469919\n",
       "\n",
       "[690452 rows x 2 columns]"
      ],
      "text/html": "<div>\n<style scoped>\n    .dataframe tbody tr th:only-of-type {\n        vertical-align: middle;\n    }\n\n    .dataframe tbody tr th {\n        vertical-align: top;\n    }\n\n    .dataframe thead th {\n        text-align: right;\n    }\n</style>\n<table border=\"1\" class=\"dataframe\">\n  <thead>\n    <tr style=\"text-align: right;\">\n      <th></th>\n      <th>gps_Latitude</th>\n      <th>gps_Longitude</th>\n    </tr>\n  </thead>\n  <tbody>\n    <tr>\n      <th>386105</th>\n      <td>-214.748</td>\n      <td>-214.748</td>\n    </tr>\n    <tr>\n      <th>386106</th>\n      <td>-214.748</td>\n      <td>-214.748</td>\n    </tr>\n    <tr>\n      <th>386107</th>\n      <td>-214.748</td>\n      <td>-214.748</td>\n    </tr>\n    <tr>\n      <th>386108</th>\n      <td>-214.748</td>\n      <td>-214.748</td>\n    </tr>\n    <tr>\n      <th>386109</th>\n      <td>-214.748</td>\n      <td>-214.748</td>\n    </tr>\n    <tr>\n      <th>...</th>\n      <td>...</td>\n      <td>...</td>\n    </tr>\n    <tr>\n      <th>157661</th>\n      <td>44.786842</td>\n      <td>-93.469918</td>\n    </tr>\n    <tr>\n      <th>157662</th>\n      <td>44.786842</td>\n      <td>-93.469918</td>\n    </tr>\n    <tr>\n      <th>157663</th>\n      <td>44.786842</td>\n      <td>-93.469918</td>\n    </tr>\n    <tr>\n      <th>157664</th>\n      <td>44.78682</td>\n      <td>-93.469919</td>\n    </tr>\n    <tr>\n      <th>157665</th>\n      <td>44.78682</td>\n      <td>-93.469919</td>\n    </tr>\n  </tbody>\n</table>\n<p>690452 rows × 2 columns</p>\n</div>"
     },
     "metadata": {},
     "execution_count": 39
    }
   ],
   "source": [
    "df"
   ]
  },
  {
   "cell_type": "code",
   "execution_count": 49,
   "metadata": {},
   "outputs": [],
   "source": [
    "df = df.iloc[3000:]"
   ]
  },
  {
   "cell_type": "code",
   "execution_count": 50,
   "metadata": {},
   "outputs": [
    {
     "output_type": "execute_result",
     "data": {
      "text/plain": [
       "       gps_Latitude gps_Longitude\n",
       "420220      45.1942      -93.5495\n",
       "420221      45.1942      -93.5495\n",
       "421052      45.1995      -93.5495\n",
       "421053      45.1995      -93.5495\n",
       "421054      45.1995      -93.5495\n",
       "...             ...           ...\n",
       "157661    44.786842    -93.469918\n",
       "157662    44.786842    -93.469918\n",
       "157663    44.786842    -93.469918\n",
       "157664     44.78682    -93.469919\n",
       "157665     44.78682    -93.469919\n",
       "\n",
       "[688152 rows x 2 columns]"
      ],
      "text/html": "<div>\n<style scoped>\n    .dataframe tbody tr th:only-of-type {\n        vertical-align: middle;\n    }\n\n    .dataframe tbody tr th {\n        vertical-align: top;\n    }\n\n    .dataframe thead th {\n        text-align: right;\n    }\n</style>\n<table border=\"1\" class=\"dataframe\">\n  <thead>\n    <tr style=\"text-align: right;\">\n      <th></th>\n      <th>gps_Latitude</th>\n      <th>gps_Longitude</th>\n    </tr>\n  </thead>\n  <tbody>\n    <tr>\n      <th>420220</th>\n      <td>45.1942</td>\n      <td>-93.5495</td>\n    </tr>\n    <tr>\n      <th>420221</th>\n      <td>45.1942</td>\n      <td>-93.5495</td>\n    </tr>\n    <tr>\n      <th>421052</th>\n      <td>45.1995</td>\n      <td>-93.5495</td>\n    </tr>\n    <tr>\n      <th>421053</th>\n      <td>45.1995</td>\n      <td>-93.5495</td>\n    </tr>\n    <tr>\n      <th>421054</th>\n      <td>45.1995</td>\n      <td>-93.5495</td>\n    </tr>\n    <tr>\n      <th>...</th>\n      <td>...</td>\n      <td>...</td>\n    </tr>\n    <tr>\n      <th>157661</th>\n      <td>44.786842</td>\n      <td>-93.469918</td>\n    </tr>\n    <tr>\n      <th>157662</th>\n      <td>44.786842</td>\n      <td>-93.469918</td>\n    </tr>\n    <tr>\n      <th>157663</th>\n      <td>44.786842</td>\n      <td>-93.469918</td>\n    </tr>\n    <tr>\n      <th>157664</th>\n      <td>44.78682</td>\n      <td>-93.469919</td>\n    </tr>\n    <tr>\n      <th>157665</th>\n      <td>44.78682</td>\n      <td>-93.469919</td>\n    </tr>\n  </tbody>\n</table>\n<p>688152 rows × 2 columns</p>\n</div>"
     },
     "metadata": {},
     "execution_count": 50
    }
   ],
   "source": [
    "df"
   ]
  },
  {
   "cell_type": "code",
   "execution_count": 51,
   "metadata": {},
   "outputs": [
    {
     "output_type": "stream",
     "name": "stderr",
     "text": [
      "C:\\Users\\mingzhou\\Anaconda3\\lib\\site-packages\\arcgis\\features\\geo\\_io\\fileops.py:153: SettingWithCopyWarning: \nA value is trying to be set on a copy of a slice from a DataFrame.\nTry using .loc[row_indexer,col_indexer] = value instead\n\nSee the caveats in the documentation: https://pandas.pydata.org/pandas-docs/stable/user_guide/indexing.html#returning-a-view-versus-a-copy\n  df['SHAPE'] = GeoArray(ags_geom)\n"
     ]
    }
   ],
   "source": [
    "sdf = pd.DataFrame.spatial.from_xy(df, \"gps_Longitude\", \"gps_Latitude\")"
   ]
  },
  {
   "cell_type": "code",
   "execution_count": 52,
   "metadata": {},
   "outputs": [
    {
     "output_type": "execute_result",
     "data": {
      "text/plain": [
       "       gps_Latitude gps_Longitude  \\\n",
       "420220      45.1942      -93.5495   \n",
       "420221      45.1942      -93.5495   \n",
       "421052      45.1995      -93.5495   \n",
       "421053      45.1995      -93.5495   \n",
       "421054      45.1995      -93.5495   \n",
       "...             ...           ...   \n",
       "157661    44.786842    -93.469918   \n",
       "157662    44.786842    -93.469918   \n",
       "157663    44.786842    -93.469918   \n",
       "157664     44.78682    -93.469919   \n",
       "157665     44.78682    -93.469919   \n",
       "\n",
       "                                                    SHAPE  \n",
       "420220  {\"spatialReference\": {\"wkid\": 4326}, \"x\": -93....  \n",
       "420221  {\"spatialReference\": {\"wkid\": 4326}, \"x\": -93....  \n",
       "421052  {\"spatialReference\": {\"wkid\": 4326}, \"x\": -93....  \n",
       "421053  {\"spatialReference\": {\"wkid\": 4326}, \"x\": -93....  \n",
       "421054  {\"spatialReference\": {\"wkid\": 4326}, \"x\": -93....  \n",
       "...                                                   ...  \n",
       "157661  {\"spatialReference\": {\"wkid\": 4326}, \"x\": \"-93...  \n",
       "157662  {\"spatialReference\": {\"wkid\": 4326}, \"x\": \"-93...  \n",
       "157663  {\"spatialReference\": {\"wkid\": 4326}, \"x\": \"-93...  \n",
       "157664  {\"spatialReference\": {\"wkid\": 4326}, \"x\": \"-93...  \n",
       "157665  {\"spatialReference\": {\"wkid\": 4326}, \"x\": \"-93...  \n",
       "\n",
       "[688152 rows x 3 columns]"
      ],
      "text/html": "<div>\n<style scoped>\n    .dataframe tbody tr th:only-of-type {\n        vertical-align: middle;\n    }\n\n    .dataframe tbody tr th {\n        vertical-align: top;\n    }\n\n    .dataframe thead th {\n        text-align: right;\n    }\n</style>\n<table border=\"1\" class=\"dataframe\">\n  <thead>\n    <tr style=\"text-align: right;\">\n      <th></th>\n      <th>gps_Latitude</th>\n      <th>gps_Longitude</th>\n      <th>SHAPE</th>\n    </tr>\n  </thead>\n  <tbody>\n    <tr>\n      <th>420220</th>\n      <td>45.1942</td>\n      <td>-93.5495</td>\n      <td>{\"spatialReference\": {\"wkid\": 4326}, \"x\": -93....</td>\n    </tr>\n    <tr>\n      <th>420221</th>\n      <td>45.1942</td>\n      <td>-93.5495</td>\n      <td>{\"spatialReference\": {\"wkid\": 4326}, \"x\": -93....</td>\n    </tr>\n    <tr>\n      <th>421052</th>\n      <td>45.1995</td>\n      <td>-93.5495</td>\n      <td>{\"spatialReference\": {\"wkid\": 4326}, \"x\": -93....</td>\n    </tr>\n    <tr>\n      <th>421053</th>\n      <td>45.1995</td>\n      <td>-93.5495</td>\n      <td>{\"spatialReference\": {\"wkid\": 4326}, \"x\": -93....</td>\n    </tr>\n    <tr>\n      <th>421054</th>\n      <td>45.1995</td>\n      <td>-93.5495</td>\n      <td>{\"spatialReference\": {\"wkid\": 4326}, \"x\": -93....</td>\n    </tr>\n    <tr>\n      <th>...</th>\n      <td>...</td>\n      <td>...</td>\n      <td>...</td>\n    </tr>\n    <tr>\n      <th>157661</th>\n      <td>44.786842</td>\n      <td>-93.469918</td>\n      <td>{\"spatialReference\": {\"wkid\": 4326}, \"x\": \"-93...</td>\n    </tr>\n    <tr>\n      <th>157662</th>\n      <td>44.786842</td>\n      <td>-93.469918</td>\n      <td>{\"spatialReference\": {\"wkid\": 4326}, \"x\": \"-93...</td>\n    </tr>\n    <tr>\n      <th>157663</th>\n      <td>44.786842</td>\n      <td>-93.469918</td>\n      <td>{\"spatialReference\": {\"wkid\": 4326}, \"x\": \"-93...</td>\n    </tr>\n    <tr>\n      <th>157664</th>\n      <td>44.78682</td>\n      <td>-93.469919</td>\n      <td>{\"spatialReference\": {\"wkid\": 4326}, \"x\": \"-93...</td>\n    </tr>\n    <tr>\n      <th>157665</th>\n      <td>44.78682</td>\n      <td>-93.469919</td>\n      <td>{\"spatialReference\": {\"wkid\": 4326}, \"x\": \"-93...</td>\n    </tr>\n  </tbody>\n</table>\n<p>688152 rows × 3 columns</p>\n</div>"
     },
     "metadata": {},
     "execution_count": 52
    }
   ],
   "source": [
    "sdf"
   ]
  },
  {
   "cell_type": "code",
   "execution_count": 53,
   "metadata": {},
   "outputs": [
    {
     "output_type": "stream",
     "name": "stdout",
     "text": [
      "688152 records, 689 API calls required\n"
     ]
    }
   ],
   "source": [
    "sdf_parts = [\n",
    "    sdf[start_index : start_index + 1000].copy()\n",
    "    for start_index in range(0, len(sdf), 1000)\n",
    "]\n",
    "print(f\"{len(sdf)} records, {len(sdf_parts)} API calls required\")"
   ]
  },
  {
   "cell_type": "code",
   "execution_count": 56,
   "metadata": {
    "tags": []
   },
   "outputs": [
    {
     "output_type": "stream",
     "name": "stdout",
     "text": [
      "2021-05-16 10:07:37 start part   1/689 with 1000 records\n1        gps_Latitude gps_Longitude  \\\n420220      45.1942      -93.5495   \n420221      45.1942      -93.5495   \n421052      45.1995      -93.5495   \n421053      45.1995      -93.5495   \n421054      45.1995      -93.5495   \n...             ...           ...   \n419840      45.1874       -93.541   \n419841      45.1874       -93.541   \n421667      45.1995      -93.5409   \n421668      45.1995      -93.5409   \n421669      45.1995      -93.5409   \n\n                                                    SHAPE  \n420220  {\"spatialReference\": {\"wkid\": 4326}, \"x\": -93....  \n420221  {\"spatialReference\": {\"wkid\": 4326}, \"x\": -93....  \n421052  {\"spatialReference\": {\"wkid\": 4326}, \"x\": -93....  \n421053  {\"spatialReference\": {\"wkid\": 4326}, \"x\": -93....  \n421054  {\"spatialReference\": {\"wkid\": 4326}, \"x\": -93....  \n...                                                   ...  \n419840  {\"spatialReference\": {\"wkid\": 4326}, \"x\": -93....  \n419841  {\"spatialReference\": {\"wkid\": 4326}, \"x\": -93....  \n421667  {\"spatialReference\": {\"wkid\": 4326}, \"x\": -93....  \n421668  {\"spatialReference\": {\"wkid\": 4326}, \"x\": -93....  \n421669  {\"spatialReference\": {\"wkid\": 4326}, \"x\": -93....  \n\n[1000 rows x 3 columns]\n"
     ]
    }
   ],
   "source": [
    "for i, logrecord_part in enumerate(sdf_parts,1):\n",
    "    print(\n",
    "        f\"{datetime.now().strftime('%Y-%m-%d %H:%M:%S')} start part {i:3d}/{len(sdf_parts):,} with {len(logrecord_part)} records\"\n",
    "    )\n",
    "    print(i, logrecord_part)\n",
    "\n",
    "\n",
    "    file_timestamp = datetime.now().strftime(\"%Y%m%d_%H%M%S%f\")\n",
    "    break"
   ]
  },
  {
   "cell_type": "code",
   "execution_count": null,
   "metadata": {},
   "outputs": [],
   "source": [
    "ELEVATION_DATA_DIR = os.path.join(\"..\", \"elevation_data\")\n",
    "\n",
    "\n",
    "df = pd.read_csv(os.path.join(ELEVATION_DATA_DIR, \"hevii_additional_locations_for_elevation_20210329.csv\"))\n",
    "df = df.sort_values([\"longitude\", \"latitude\"])\n",
    "sdf = pd.DataFrame.spatial.from_xy(df, \"longitude\", \"latitude\")\n",
    "sdf_parts = [\n",
    "    sdf[start_index : start_index + 1000].copy()\n",
    "    for start_index in range(0, len(sdf), 1000)\n",
    "]\n",
    "print(f\"{len(sdf)} records, {len(sdf_parts)} API calls required\")"
   ]
  },
  {
   "cell_type": "code",
   "execution_count": null,
   "metadata": {},
   "outputs": [],
   "source": [
    "for i, logrecord_part in enumerate(sdf_parts, 1):\n",
    "    print(\n",
    "        f\"{datetime.now().strftime('%Y-%m-%d %H:%M:%S')} start part {i:3d}/{len(sdf_parts):,} with {len(logrecord_part)} records\"\n",
    "    )\n",
    "\n",
    "    result = summarize_elevation(\n",
    "        input_features=logrecord_part,\n",
    "        dem_resolution=\"10m\",\n",
    "    )\n",
    "\n",
    "    rdf = result.sdf\n",
    "    rdf = rdf.drop(\n",
    "        columns=[\n",
    "            \"OBJECTID\",\n",
    "            \"ID\",\n",
    "            \"Source\",\n",
    "            \"Source_URL\",\n",
    "            \"SHAPE\",\n",
    "        ]\n",
    "    )\n",
    "\n",
    "    file_timestamp = datetime.now().strftime(\"%Y%m%d_%H%M%S%f\")\n",
    "    rdf.to_csv(os.path.join(ELEVATION_DATA_DIR, f\"logrecord_with_elevation_{file_timestamp}.csv\"), index=False)"
   ]
  }
 ],
 "metadata": {
  "kernelspec": {
   "name": "python385jvsc74a57bd06efccfe63ff034e49c0932d86080ee187770f3a9fac302570fc5ff55645a5f3f",
   "display_name": "Python 3.8.5 64-bit ('base': conda)"
  },
  "language_info": {
   "file_extension": ".py",
   "name": "python",
   "version": "3.8.5"
  }
 },
 "nbformat": 4,
 "nbformat_minor": 5
}