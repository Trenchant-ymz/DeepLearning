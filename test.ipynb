{
 "cells": [
  {
   "cell_type": "code",
   "execution_count": 4,
   "source": [
    "import numpy as np\r\n",
    "import os\r\n",
    "import pandas as pd\r\n",
    "from osmgraph import GraphFromBbox, GraphFromHmlFile, GraphFromGdfs\r\n",
    "from spaitalShape import Point, OdPair, Box\r\n",
    "from edgeGdfPreprocessing import edgePreprocessing\r\n",
    "import osmnx as ox\r\n",
    "import math\r\n",
    "import time\r\n",
    "\r\n",
    "# Profiling: python -m cProfile -o profile.pstats ecoRouting.py\r\n",
    "# Visualize profile: snakeviz profile.pstats\r\n",
    "\r\n",
    "# Profiling: python -m cProfile -o profile.pstats ecoRouting.py\r\n",
    "# Visualize profile: snakeviz profile.pstats\r\n",
    "\r\n",
    "\r\n",
    "class LocationRequest:\r\n",
    "    def __init__(self):\r\n",
    "        # Murphy Depot\r\n",
    "        # (longitude, latitude)\r\n",
    "        self.origin = Point(-93.2219, 44.979)\r\n",
    "        # test\r\n",
    "        #self.origin = Point(-93.4254, 44.7888)\r\n",
    "        #self.origin = Point(-93.470167, 44.799720)\r\n",
    "        #origin = Point(-93.2466, 44.8959)\r\n",
    "        # Shakopee East (Depot):\r\n",
    "        self.destination = Point(-93.4620, 44.7903)\r\n",
    "        #self.destination = Point(-93.230358, 44.973583)\r\n",
    "\r\n",
    "        self.odPair = OdPair(self.origin, self.destination)\r\n",
    "        self.boundingBox = Box(-93.4975, -93.1850, 44.7458, 45.0045)\r\n",
    "        self.mass = 23000\r\n",
    "        # 9 am\r\n",
    "        self.timeOfTheDay = 9\r\n",
    "        # Monday\r\n",
    "        self.dayOfTheWeek = 1\r\n"
   ],
   "outputs": [],
   "metadata": {}
  },
  {
   "cell_type": "code",
   "execution_count": 2,
   "source": [
    "def testfunction(edgesGdf):\r\n",
    "    from window import Window\r\n",
    "    w = Window(61851, 61877, 61893, 33971)\r\n",
    "    print(w.extractFeatures(edgesGdf))\r\n",
    "    return\r\n",
    "\r\n",
    "def extractGraphOf(boundingBox):\r\n",
    "    folderOfGraph = r'GraphDataInBbox'\r\n",
    "    if os.path.exists(folderOfGraph):\r\n",
    "        print(\"reloading graph..\")\r\n",
    "        osmGraph = GraphFromHmlFile(os.path.join(folderOfGraph, 'osmGraph.graphml'))\r\n",
    "    else:\r\n",
    "        print(\"downloading graph..\")\r\n",
    "        osmGraph = GraphFromBbox(boundingBox)\r\n",
    "        osmGraph.saveHmlTo(folderOfGraph)\r\n",
    "    # fig, ax = ox.plot_graph(osmGraph.graph)\r\n",
    "    return osmGraph\r\n",
    "\r\n",
    "\r\n",
    "def extractElevation(nodes, edges):\r\n",
    "    extractNodesElevation(nodes)\r\n",
    "    extractEdgesElevation(nodes, edges)\r\n",
    "\r\n",
    "\r\n",
    "\r\n",
    "def extractNodesElevation(nodes):\r\n",
    "    nodesElevation = pd.read_csv(\"nodesWithElevation.csv\", index_col=0)\r\n",
    "    nodes['indexId'] = nodes.index\r\n",
    "    nodes['elevation'] = nodes.apply(lambda x: nodesElevation.loc[x['indexId'], 'MeanElevation'], axis=1)\r\n",
    "\r\n",
    "\r\n",
    "\r\n",
    "def extractEdgesElevation(nodesWithElevation, edges):\r\n",
    "    edges['uElevation'] = edges['u'].apply(lambda x: nodesWithElevation.loc[x,'elevation'])\r\n",
    "    edges['vElevation'] = edges['v'].apply(lambda x: nodesWithElevation.loc[x,'elevation'])\r\n",
    "\r\n",
    "\r\n",
    "def extractGraphInMurphy(nodes, edges):\r\n",
    "    edgesInMurphy = extractEdgesInMurphy(edges)\r\n",
    "    graphInMurphy = GraphFromGdfs(nodes, edgesInMurphy)\r\n",
    "    return graphInMurphy\r\n",
    "\r\n",
    "\r\n",
    "def extractEdgesInMurphy(edges):\r\n",
    "    edges['uvPair'] = edges.apply(lambda x: (x.u, x.v), axis=1)\r\n",
    "    segmentElevationChange = np.load('statistical data/segmentElevationChange.npy', allow_pickle=True).item()\r\n",
    "    edges['isInMurphy'] = edges.uvPair.apply(lambda x: x in segmentElevationChange)\r\n",
    "    return edges[edges.isInMurphy]\r\n",
    "\r\n",
    "\r\n",
    "def findShortestPath(osmGraph, localRequest):\r\n",
    "    shortestPath = osmGraph.shortestPath(localRequest)\r\n",
    "    print(\"shortestPath:\", shortestPath)\r\n",
    "    # ox.plot_graph(osmGraph)\r\n",
    "    #osmGraph.plotPath(shortestPath, \"shortest route.pdf\")\r\n",
    "    return shortestPath\r\n",
    "\r\n",
    "\r\n",
    "def findEcoPathAndCalEnergy(osmGraph, localRequest):\r\n",
    "    ecoPath, ecoEnergy , ecoEdgePath = osmGraph.ecoPath(localRequest)\r\n",
    "    print(\"ecoPath:\", ecoPath, \"ecoEnergy:\", ecoEnergy, ecoEdgePath)\r\n",
    "    #osmGraph.plotPath(ecoPath, \"eco route.pdf\")\r\n",
    "    return ecoPath, ecoEnergy,  ecoEdgePath\r\n",
    "\r\n",
    "\r\n",
    "def findFastestPathAndCalTime(osmGraph, localRequest):\r\n",
    "\r\n",
    "    fastestPath, shortestTime, fastEdgePath = osmGraph.fastestPath(localRequest)\r\n",
    "    print(\"fastestPath:\", fastestPath, \"shortestTime:\", shortestTime, fastEdgePath)\r\n",
    "    #osmGraph.plotPath(fastestPath,\"fastest route.pdf\")\r\n",
    "    return fastestPath, shortestTime, fastEdgePath\r\n",
    "\r\n",
    "\r\n",
    "def nodePathTOEdgePath(nodePath, edgesGdf):\r\n",
    "    edgePath = []\r\n",
    "    for i, OdPair in enumerate(zip(nodePath[:-1], nodePath[1:])):\r\n",
    "        segmentId = edgesGdf[edgesGdf['odPair'] == OdPair].index[0]\r\n",
    "        edgePath.append(segmentId)\r\n",
    "    return edgePath\r\n",
    "\r\n",
    "\r\n",
    "\r\n",
    "def calAndPrintPathAttributes(osmGraph, edgePath, pathname):\r\n",
    "    numberOfSegments = len(edgePath)\r\n",
    "    length = osmGraph.totalLength(edgePath)\r\n",
    "    energy = osmGraph.totalEnergy(edgePath)\r\n",
    "    time = osmGraph.totalTime(edgePath)\r\n",
    "    print(pathname+\":\"+f\"{numberOfSegments} segments, {length} meters, {energy} liters, {time} seconds\")\r\n",
    "    return\r\n"
   ],
   "outputs": [],
   "metadata": {}
  },
  {
   "cell_type": "code",
   "execution_count": 5,
   "source": [
    "locationRequest = LocationRequest()\r\n",
    "osmGraphInBbox = extractGraphOf(locationRequest.boundingBox)\r\n",
    "nodes, edges = osmGraphInBbox.graphToGdfs()\r\n",
    "extractElevation(nodes, edges)\r\n",
    "edges = edgePreprocessing(nodes, edges, locationRequest)\r\n",
    "graphWithElevation = GraphFromGdfs(nodes, edges)\r\n",
    "graphWithElevation.removeIsolateNodes()"
   ],
   "outputs": [
    {
     "output_type": "stream",
     "name": "stdout",
     "text": [
      "reloading graph..\n"
     ]
    }
   ],
   "metadata": {}
  },
  {
   "cell_type": "code",
   "execution_count": 7,
   "source": [
    "shortestNodePath =[301297715, 244110319, 34638990, 301295780, 33749238, 1674139069, 1641850667, 244111192, 1025799475, 1817826566, 33419919, 598048989, 598260853, 598260880, 598037615, 598037808, 33741160, 33465717, 34561215, 596664549, 596664559, 595906980, 595898782, 595955534, 595839400, 6928916280, 595819785, 595434003, 245812803, 740355099, 33308314, 476913479, 476914885, 33382792, 476914946, 34509163, 476916370, 34383306, 33750688, 34392416, 34397391, 34397632, 34188179, 34163786, 33464056, 33296901, 33316298, 33316299, 1355644211, 430586497, 34638790, 2939829463, 414212637, 476944911, 476944926, 476948454, 476948459, 6960948421, 678979183, 729441988, 729441987, 729441984, 561037952, 678980591, 678980588, 699924126, 6141477756, 678254900, 678254898, 678254896, 33457336, 678254893, 2472823034, 678254891, 678254888, 700682568, 700682567, 678254885, 33318883, 8227916672, 8493346868, 560964732, 678254883, 560655152, 564231574, 568935618, 593993693, 593993698, 700682565, 593993564, 595487079,34173817, 34644805, 33418566, 33541907, 33542034, 34384209, 33297585, 33749182, 34372961, 33525925, 33846344, 34397014, 34573439, 1912414860, 34543950, 1912414844, 33802895, 491892734, 34188784, 1912414775, 2016989359, 2016989354, 33806396, 5617149278, 34504806, 5617149285, 34186314, 33297281, 33352515, 33329222, 34668233, 976348692, 976348635, 976348672, 976348726, 976348722, 976348734, 976348621, 5402587238, 33419363, 33297843, 33297842, 33376173, 33371571, 5402587232, 5402587223, 1208071476, 1208071483, 470842396, 34653054, 33744485, 33319857, 465534614, 465534616, 534950337, 539673804, 1541658049, 534950306, 1649997656, 534950310, 300218109, 1649997646, 188038057, 188038056, 8146751356]\r\n"
   ],
   "outputs": [],
   "metadata": {}
  },
  {
   "cell_type": "code",
   "execution_count": 8,
   "source": [
    "shortestPath = nodePathTOEdgePath(shortestNodePath, edges)"
   ],
   "outputs": [],
   "metadata": {}
  },
  {
   "cell_type": "code",
   "execution_count": 9,
   "source": [
    "calAndPrintPathAttributes(graphWithElevation, shortestPath, \"shortestPath\")"
   ],
   "outputs": [
    {
     "output_type": "stream",
     "name": "stdout",
     "text": [
      "shortestPath:155 segments, 37434.512 meters, 8.494811125099659 liters, 2706.8516367673874 seconds\n"
     ]
    }
   ],
   "metadata": {}
  },
  {
   "cell_type": "code",
   "execution_count": 10,
   "source": [
    "ecoRoute = [301297715, 244110319, 34638990, 301297739, 244109286, 33802423, 34191216, 34178512, 34161335, 34177358, 34161335, 34638023, 33307879, 33307818, 246659838, 34511373, 34502016, 1849073245, 803066564, 33362637, 33362622, 803066706, 803066564, 33362637, 33362622, 267078135, 1883270850, 595928255, 595911061, 595955817, 595898810, 2498997791, 6876304186, 6876426598, 6876426587, 6878107187, 6876303755, 770727059, 1685304170, 1685304139, 770726730, 770928383, 770741788, 1001588962, 1001589148, 1001588927, 1001589024, 34498025, 1001589020, 1001588885, 560639812, 33328314, 486972580, 576885338, 486972620, 563387811, 563387842, 486972733, 593993633, 476751858, 476751860, 476751861, 486973044, 476272946, 476751734, 1522703178, 476272960, 497309536, 497309549, 33493793, 497309633, 33368310, 34638352, 470814180, 33373801, 470820638, 33640842, 246759348, 2015677691, 470825756, 470838251, 470838668, 34497967, 4210557790, 34653054, 33744485, 33319857, 465534614, 188045381, 470847865, 188062765, 469362905, 469329044, 469329045, 188055018, 539723216, 188055017, 188063558, 8146751356]"
   ],
   "outputs": [],
   "metadata": {}
  },
  {
   "cell_type": "code",
   "execution_count": 11,
   "source": [
    "ecoEdgePath = nodePathTOEdgePath(ecoRoute, edges)"
   ],
   "outputs": [],
   "metadata": {}
  },
  {
   "cell_type": "code",
   "execution_count": 12,
   "source": [
    "calAndPrintPathAttributes(graphWithElevation, ecoEdgePath, \"ecoRoute\")"
   ],
   "outputs": [
    {
     "output_type": "stream",
     "name": "stdout",
     "text": [
      "ecoRoute:98 segments, 43447.779 meters, 4.119279943406582 liters, 1985.3674219846725 seconds\n"
     ]
    }
   ],
   "metadata": {}
  },
  {
   "cell_type": "code",
   "execution_count": 13,
   "source": [
    "fastestPath = [301297715, 244110319, 34638990, 301295780, 301295799, 301297749, 33635653, 244111192, 1025799475, 1817826566, 33419919, 598048989, 598260853, 598260880, 598037615, 598037808, 596664549, 596664559, 595906980, 595898782, 595898810, 2498997791, 6876304186, 6878107187, 6876303755, 770727059, 1685304170, 1685304139, 770726730, 770928383, 770741788, 1001588998, 415333483, 415333485, 415168815, 415168795, 33750529, 34634773, 512438284, 503626094, 503629309, 503628607, 415167888, 2016984421,415167907, 33313247, 6788465524, 415167400, 1696968667, 2015677691, 470825756, 470838251, 470838668, 34497967, 4210557790, 34653054, 33744485, 33319857, 465534614, 465534616, 534950337, 539673804, 1541658049, 534950306, 1649997656, 534950310, 300218109, 1649997646, 188038057, 188038056, 8146751356] "
   ],
   "outputs": [],
   "metadata": {}
  },
  {
   "cell_type": "code",
   "execution_count": 14,
   "source": [
    "fastestEdgePath = nodePathTOEdgePath(fastestPath, edges)"
   ],
   "outputs": [],
   "metadata": {}
  },
  {
   "cell_type": "code",
   "execution_count": 15,
   "source": [
    "calAndPrintPathAttributes(graphWithElevation, fastestEdgePath, \"fastestPath\")"
   ],
   "outputs": [
    {
     "output_type": "stream",
     "name": "stdout",
     "text": [
      "fastestPath:70 segments, 38967.602 meters, 5.171727582812309 liters, 1684.5582154989243 seconds\n"
     ]
    }
   ],
   "metadata": {}
  },
  {
   "cell_type": "code",
   "execution_count": 16,
   "source": [
    "import plotly.graph_objects as go\r\n",
    "import plotly\r\n",
    "# plot map matching results\r\n",
    "def plotRoutes(routeList, network_gdf, colorLists, nameLists):\r\n",
    "    directory = './results'\r\n",
    "    colorLists = ['green', 'red', 'blue']\r\n",
    "    if not os.path.exists(directory):\r\n",
    "        os.makedirs(directory)\r\n",
    "    edgeLongList = []\r\n",
    "    edgeLatList = []\r\n",
    "    for i in range(len(routeList)):\r\n",
    "        route = routeList[i]\r\n",
    "        long_edge = []\r\n",
    "        lat_edge = []\r\n",
    "        for j in route:\r\n",
    "            e = network_gdf.loc[j]\r\n",
    "            if 'geometry' in e:\r\n",
    "                xs, ys = e['geometry'].xy\r\n",
    "                z = list(zip(xs, ys))\r\n",
    "                l1 = list(list(zip(*z))[0])\r\n",
    "                l2 = list(list(zip(*z))[1])\r\n",
    "                for k in range(len(l1)):\r\n",
    "                    long_edge.append(l1[k])\r\n",
    "                    lat_edge.append(l2[k])\r\n",
    "        if i == 0:\r\n",
    "            fig = go.Figure(go.Scattermapbox(\r\n",
    "                name = nameLists[i],\r\n",
    "                mode = \"lines\",\r\n",
    "                lon = long_edge,\r\n",
    "                lat = lat_edge,\r\n",
    "                marker = {'size': 5, 'color':colorLists[i]},\r\n",
    "                line = dict(width = 3, color = colorLists[i]))) \r\n",
    "        else:\r\n",
    "            fig.add_trace(go.Scattermapbox(\r\n",
    "                name = nameLists[i],\r\n",
    "                mode = \"lines\",\r\n",
    "                lon = long_edge,\r\n",
    "                lat = lat_edge,\r\n",
    "                marker = {'size': 5, 'color':colorLists[i]},\r\n",
    "                line = dict(width = 3, color = colorLists[i]))) \r\n",
    "    # getting center for plots:\r\n",
    "    lat_center = np.mean(lat_edge)\r\n",
    "    long_center = np.mean(long_edge)\r\n",
    "    zoom = 9.5\r\n",
    "    # defining the layout using mapbox_style\r\n",
    "    fig.update_layout(mapbox_style=\"stamen-terrain\",\r\n",
    "        mapbox_center_lat = 30, mapbox_center_lon=-80)\r\n",
    "    fig.update_layout(margin={\"r\":0,\"t\":0,\"l\":0,\"b\":0},\r\n",
    "                    mapbox = {\r\n",
    "                            'center': {'lat': lat_center, \r\n",
    "                            'lon': long_center},\r\n",
    "                            'zoom': zoom})\r\n",
    "\r\n",
    "    plotly.offline.plot(fig,filename = os.path.join(directory,'resultnewdropped.html'),auto_open=True)"
   ],
   "outputs": [],
   "metadata": {}
  },
  {
   "cell_type": "code",
   "execution_count": 17,
   "source": [
    "plotRoutes([shortestPath, ecoEdgePath, fastestEdgePath],edges,['green', 'red', 'blue'],['shortest route','eco route','fastest route'])"
   ],
   "outputs": [],
   "metadata": {}
  },
  {
   "cell_type": "code",
   "execution_count": 1,
   "source": [
    "def extractAllWindows(self, uToV):\r\n",
    "    #uToV = self.getUToV()\r\n",
    "    windowList, tempWindowStack, tempNodeIdStack = [], [], []  \r\n",
    "    for i in uToV:\r\n",
    "        listOfNodes = uToV[i]\r\n",
    "        for edgeIdAndV in listOfNodes:\r\n",
    "            edgeIdInGdf = edgeIdAndV[0]\r\n",
    "            nextNodeId = edgeIdAndV[1]\r\n",
    "            tempWindowStack.append(edgeIdInGdf)\r\n",
    "            tempNodeIdStack.append(nextNodeId)\r\n",
    "    while tempWindowStack:\r\n",
    "        tempWindow = tempWindowStack.pop()\r\n",
    "        tempNode = tempNodeIdStack.pop()\r\n",
    "        if len(tempWindow) == 4:\r\n",
    "            windowList.append(tempWindow)\r\n",
    "            continue\r\n",
    "        else:\r\n",
    "            listOfNodes = uToV[tempNode]\r\n",
    "            for edgeIdAndV in listOfNodes:\r\n",
    "                edgeIdInGdf = edgeIdAndV[0]\r\n",
    "                nextNodeId = edgeIdAndV[1]\r\n",
    "                tempWindowStack.append(edgeIdInGdf)\r\n",
    "                tempNodeIdStack.append(nextNodeId)\r\n",
    "    return windowList"
   ],
   "outputs": [],
   "metadata": {}
  },
  {
   "cell_type": "code",
   "execution_count": 1,
   "source": [
    "a = [1,1,1,1,3,4,[1,3]]"
   ],
   "outputs": [],
   "metadata": {}
  },
  {
   "cell_type": "code",
   "execution_count": 2,
   "source": [
    "a[-1]"
   ],
   "outputs": [
    {
     "output_type": "execute_result",
     "data": {
      "text/plain": [
       "[1, 3]"
      ]
     },
     "metadata": {},
     "execution_count": 2
    }
   ],
   "metadata": {}
  },
  {
   "cell_type": "code",
   "execution_count": 3,
   "source": [
    "a.pop()"
   ],
   "outputs": [
    {
     "output_type": "execute_result",
     "data": {
      "text/plain": [
       "[1, 3]"
      ]
     },
     "metadata": {},
     "execution_count": 3
    }
   ],
   "metadata": {}
  },
  {
   "cell_type": "code",
   "execution_count": 4,
   "source": [
    "a"
   ],
   "outputs": [
    {
     "output_type": "execute_result",
     "data": {
      "text/plain": [
       "[1, 1, 1, 1, 3, 4]"
      ]
     },
     "metadata": {},
     "execution_count": 4
    }
   ],
   "metadata": {}
  },
  {
   "cell_type": "code",
   "execution_count": 1,
   "source": [
    "a = [1,2]"
   ],
   "outputs": [],
   "metadata": {}
  },
  {
   "cell_type": "code",
   "execution_count": 2,
   "source": [
    "b = []\r\n",
    "b.append(a)"
   ],
   "outputs": [],
   "metadata": {}
  },
  {
   "cell_type": "code",
   "execution_count": 3,
   "source": [
    "b"
   ],
   "outputs": [
    {
     "output_type": "execute_result",
     "data": {
      "text/plain": [
       "[[1, 2]]"
      ]
     },
     "metadata": {},
     "execution_count": 3
    }
   ],
   "metadata": {}
  },
  {
   "cell_type": "code",
   "execution_count": 4,
   "source": [
    "a.pop()"
   ],
   "outputs": [
    {
     "output_type": "execute_result",
     "data": {
      "text/plain": [
       "2"
      ]
     },
     "metadata": {},
     "execution_count": 4
    }
   ],
   "metadata": {}
  },
  {
   "cell_type": "code",
   "execution_count": 5,
   "source": [
    "b"
   ],
   "outputs": [
    {
     "output_type": "execute_result",
     "data": {
      "text/plain": [
       "[[1]]"
      ]
     },
     "metadata": {},
     "execution_count": 5
    }
   ],
   "metadata": {}
  },
  {
   "cell_type": "code",
   "execution_count": 1,
   "source": [
    "a = [1]"
   ],
   "outputs": [],
   "metadata": {}
  },
  {
   "cell_type": "code",
   "execution_count": 2,
   "source": [
    "list(a)"
   ],
   "outputs": [
    {
     "output_type": "execute_result",
     "data": {
      "text/plain": [
       "[1]"
      ]
     },
     "metadata": {},
     "execution_count": 2
    }
   ],
   "metadata": {}
  },
  {
   "cell_type": "code",
   "execution_count": 3,
   "source": [
    "a = 1"
   ],
   "outputs": [],
   "metadata": {}
  },
  {
   "cell_type": "code",
   "execution_count": 1,
   "source": [
    "a = dict()"
   ],
   "outputs": [],
   "metadata": {}
  },
  {
   "cell_type": "code",
   "execution_count": 2,
   "source": [
    "a[1][2] = 3"
   ],
   "outputs": [
    {
     "output_type": "error",
     "ename": "KeyError",
     "evalue": "1",
     "traceback": [
      "\u001b[1;31m---------------------------------------------------------------------------\u001b[0m",
      "\u001b[1;31mKeyError\u001b[0m                                  Traceback (most recent call last)",
      "\u001b[1;32m<ipython-input-2-4051f1a18ce6>\u001b[0m in \u001b[0;36m<module>\u001b[1;34m\u001b[0m\n\u001b[1;32m----> 1\u001b[1;33m \u001b[0ma\u001b[0m\u001b[1;33m[\u001b[0m\u001b[1;36m1\u001b[0m\u001b[1;33m]\u001b[0m\u001b[1;33m[\u001b[0m\u001b[1;36m2\u001b[0m\u001b[1;33m]\u001b[0m \u001b[1;33m=\u001b[0m \u001b[1;36m3\u001b[0m\u001b[1;33m\u001b[0m\u001b[1;33m\u001b[0m\u001b[0m\n\u001b[0m",
      "\u001b[1;31mKeyError\u001b[0m: 1"
     ]
    }
   ],
   "metadata": {}
  },
  {
   "cell_type": "code",
   "execution_count": 3,
   "source": [
    "a[(1,2)] = 3"
   ],
   "outputs": [],
   "metadata": {}
  },
  {
   "cell_type": "code",
   "execution_count": 4,
   "source": [
    "a "
   ],
   "outputs": [
    {
     "output_type": "execute_result",
     "data": {
      "text/plain": [
       "{(1, 2): 3}"
      ]
     },
     "metadata": {},
     "execution_count": 4
    }
   ],
   "metadata": {}
  },
  {
   "cell_type": "code",
   "execution_count": 1,
   "source": [
    "import pickle"
   ],
   "outputs": [],
   "metadata": {}
  },
  {
   "cell_type": "code",
   "execution_count": 2,
   "source": [
    "a = {3:4}"
   ],
   "outputs": [],
   "metadata": {}
  },
  {
   "cell_type": "code",
   "execution_count": 5,
   "source": [
    "a"
   ],
   "outputs": [
    {
     "output_type": "execute_result",
     "data": {
      "text/plain": [
       "{3: 4}"
      ]
     },
     "metadata": {},
     "execution_count": 5
    }
   ],
   "metadata": {}
  },
  {
   "cell_type": "code",
   "execution_count": 6,
   "source": [
    "filename = \"a\""
   ],
   "outputs": [],
   "metadata": {}
  },
  {
   "cell_type": "code",
   "execution_count": 9,
   "source": [
    "with open(filename+\".pkl\", \"wb\") as tf:\r\n",
    "    pickle.dump(a, tf)"
   ],
   "outputs": [],
   "metadata": {}
  },
  {
   "cell_type": "code",
   "execution_count": 13,
   "source": [
    "with open(filename+\".pkl\", \"wb\") as tf:\r\n",
    "    loadDict = pickle.load(tf)"
   ],
   "outputs": [
    {
     "output_type": "error",
     "ename": "UnsupportedOperation",
     "evalue": "read",
     "traceback": [
      "\u001b[1;31m---------------------------------------------------------------------------\u001b[0m",
      "\u001b[1;31mUnsupportedOperation\u001b[0m                      Traceback (most recent call last)",
      "\u001b[1;32m<ipython-input-13-3d741e8d708f>\u001b[0m in \u001b[0;36m<module>\u001b[1;34m\u001b[0m\n\u001b[0;32m      1\u001b[0m \u001b[1;32mwith\u001b[0m \u001b[0mopen\u001b[0m\u001b[1;33m(\u001b[0m\u001b[0mfilename\u001b[0m\u001b[1;33m+\u001b[0m\u001b[1;34m\".pkl\"\u001b[0m\u001b[1;33m,\u001b[0m \u001b[1;34m\"wb\"\u001b[0m\u001b[1;33m)\u001b[0m \u001b[1;32mas\u001b[0m \u001b[0mtf\u001b[0m\u001b[1;33m:\u001b[0m\u001b[1;33m\u001b[0m\u001b[1;33m\u001b[0m\u001b[0m\n\u001b[1;32m----> 2\u001b[1;33m     \u001b[0mloadDict\u001b[0m \u001b[1;33m=\u001b[0m \u001b[0mpickle\u001b[0m\u001b[1;33m.\u001b[0m\u001b[0mload\u001b[0m\u001b[1;33m(\u001b[0m\u001b[0mtf\u001b[0m\u001b[1;33m)\u001b[0m\u001b[1;33m\u001b[0m\u001b[1;33m\u001b[0m\u001b[0m\n\u001b[0m",
      "\u001b[1;31mUnsupportedOperation\u001b[0m: read"
     ]
    }
   ],
   "metadata": {}
  },
  {
   "cell_type": "code",
   "execution_count": 12,
   "source": [
    "a = dict()\r\n",
    "a[1] = (3,2)"
   ],
   "outputs": [],
   "metadata": {}
  },
  {
   "cell_type": "code",
   "execution_count": 13,
   "source": [
    "b = a.values()"
   ],
   "outputs": [],
   "metadata": {}
  },
  {
   "cell_type": "code",
   "execution_count": 15,
   "source": [
    "b"
   ],
   "outputs": [
    {
     "output_type": "execute_result",
     "data": {
      "text/plain": [
       "dict_values([(3, 2)])"
      ]
     },
     "metadata": {},
     "execution_count": 15
    }
   ],
   "metadata": {}
  },
  {
   "cell_type": "code",
   "execution_count": 16,
   "source": [
    "list(b)"
   ],
   "outputs": [
    {
     "output_type": "execute_result",
     "data": {
      "text/plain": [
       "[(3, 2)]"
      ]
     },
     "metadata": {},
     "execution_count": 16
    }
   ],
   "metadata": {}
  },
  {
   "cell_type": "code",
   "execution_count": 4,
   "source": [
    "a[1][2] =2"
   ],
   "outputs": [],
   "metadata": {}
  },
  {
   "cell_type": "code",
   "execution_count": 17,
   "source": [
    "a = [1,3,45,]"
   ],
   "outputs": [],
   "metadata": {}
  },
  {
   "cell_type": "code",
   "execution_count": 24,
   "source": [
    "a"
   ],
   "outputs": [
    {
     "output_type": "execute_result",
     "data": {
      "text/plain": [
       "[6, 3, 45]"
      ]
     },
     "metadata": {},
     "execution_count": 24
    }
   ],
   "metadata": {}
  },
  {
   "cell_type": "code",
   "execution_count": 25,
   "source": [
    "b = a[0]"
   ],
   "outputs": [],
   "metadata": {}
  },
  {
   "cell_type": "code",
   "execution_count": 26,
   "source": [
    "b"
   ],
   "outputs": [
    {
     "output_type": "execute_result",
     "data": {
      "text/plain": [
       "6"
      ]
     },
     "metadata": {},
     "execution_count": 26
    }
   ],
   "metadata": {}
  },
  {
   "cell_type": "code",
   "execution_count": 27,
   "source": [
    "a[0] = 1"
   ],
   "outputs": [],
   "metadata": {}
  },
  {
   "cell_type": "code",
   "execution_count": 28,
   "source": [
    "a"
   ],
   "outputs": [
    {
     "output_type": "execute_result",
     "data": {
      "text/plain": [
       "[1, 3, 45]"
      ]
     },
     "metadata": {},
     "execution_count": 28
    }
   ],
   "metadata": {}
  },
  {
   "cell_type": "code",
   "execution_count": 29,
   "source": [
    "b"
   ],
   "outputs": [
    {
     "output_type": "execute_result",
     "data": {
      "text/plain": [
       "6"
      ]
     },
     "metadata": {},
     "execution_count": 29
    }
   ],
   "metadata": {}
  },
  {
   "cell_type": "code",
   "execution_count": 1,
   "source": [
    "a =  2"
   ],
   "outputs": [],
   "metadata": {}
  },
  {
   "cell_type": "code",
   "execution_count": 4,
   "source": [
    "print('the paper number is'+str(a))"
   ],
   "outputs": [
    {
     "output_type": "stream",
     "name": "stdout",
     "text": [
      "the paper number is2\n"
     ]
    }
   ],
   "metadata": {}
  },
  {
   "cell_type": "code",
   "execution_count": 5,
   "source": [
    "a = input()\r\n",
    "b = int(a)\r\n",
    "print(\"a\",b,a,\"end\")"
   ],
   "outputs": [
    {
     "output_type": "stream",
     "name": "stdout",
     "text": [
      "a 3 3 end\n"
     ]
    }
   ],
   "metadata": {}
  },
  {
   "cell_type": "code",
   "execution_count": 7,
   "source": [
    "print(\"s\", ':', sep='')"
   ],
   "outputs": [
    {
     "output_type": "stream",
     "name": "stdout",
     "text": [
      "s:\n"
     ]
    }
   ],
   "metadata": {}
  },
  {
   "cell_type": "code",
   "execution_count": 8,
   "source": [
    "print(\"s\", ':')"
   ],
   "outputs": [
    {
     "output_type": "stream",
     "name": "stdout",
     "text": [
      "s :\n"
     ]
    }
   ],
   "metadata": {}
  },
  {
   "cell_type": "code",
   "execution_count": null,
   "source": [],
   "outputs": [],
   "metadata": {}
  }
 ],
 "metadata": {
  "orig_nbformat": 4,
  "language_info": {
   "name": "python",
   "version": "3.8.5",
   "mimetype": "text/x-python",
   "codemirror_mode": {
    "name": "ipython",
    "version": 3
   },
   "pygments_lexer": "ipython3",
   "nbconvert_exporter": "python",
   "file_extension": ".py"
  },
  "kernelspec": {
   "name": "python3",
   "display_name": "Python 3.8.5 64-bit ('base': conda)"
  },
  "interpreter": {
   "hash": "6efccfe63ff034e49c0932d86080ee187770f3a9fac302570fc5ff55645a5f3f"
  }
 },
 "nbformat": 4,
 "nbformat_minor": 2
}