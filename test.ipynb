{
 "cells": [
  {
   "cell_type": "code",
   "execution_count": 55,
   "source": [
    "import numpy as np\r\n",
    "import os\r\n",
    "import pandas as pd\r\n",
    "from osmgraph import GraphFromBbox, GraphFromHmlFile, GraphFromGdfs\r\n",
    "from spaitalShape import Point, OdPair, Box\r\n",
    "from edgeGdfPreprocessing import edgePreprocessing\r\n",
    "import osmnx as ox\r\n",
    "import math\r\n",
    "import time"
   ],
   "outputs": [],
   "metadata": {}
  },
  {
   "cell_type": "code",
   "execution_count": 2,
   "source": [
    "class LocationRequest:\r\n",
    "    def __init__(self):\r\n",
    "        # Murphy Depot\r\n",
    "        # (longitude, latitude)\r\n",
    "        self.origin = Point(-93.2219, 44.979)\r\n",
    "        # test\r\n",
    "        #self.origin = Point(-93.4254, 44.7888)\r\n",
    "        #self.origin = Point(-93.470167, 44.799720)\r\n",
    "        #origin = Point(-93.2466, 44.8959)\r\n",
    "        # Shakopee East (Depot):\r\n",
    "        self.destination = Point(-93.4620, 44.7903)\r\n",
    "        #self.destination = Point(-93.230358, 44.973583)\r\n",
    "\r\n",
    "        self.odPair = OdPair(self.origin, self.destination)\r\n",
    "        self.boundingBox = Box(-93.4975, -93.1850, 44.7458, 45.0045)\r\n",
    "        self.mass = 23000\r\n",
    "        # 9 am\r\n",
    "        self.timeOfTheDay = 9\r\n",
    "        # Monday\r\n",
    "        self.dayOfTheWeek = 1"
   ],
   "outputs": [],
   "metadata": {}
  },
  {
   "cell_type": "code",
   "execution_count": 4,
   "source": [
    "def extractGraphOf(boundingBox):\r\n",
    "    folderOfGraph = r'GraphDataInBbox'\r\n",
    "    if os.path.exists(folderOfGraph):\r\n",
    "        print(\"reloading graph..\")\r\n",
    "        osmGraph = GraphFromHmlFile(os.path.join(folderOfGraph, 'osmGraph.graphml'))\r\n",
    "    else:\r\n",
    "        print(\"downloading graph..\")\r\n",
    "        osmGraph = GraphFromBbox(boundingBox)\r\n",
    "        osmGraph.saveHmlTo(folderOfGraph)\r\n",
    "    # fig, ax = ox.plot_graph(osmGraph.graph)\r\n",
    "    return osmGraph\r\n",
    "\r\n",
    "\r\n",
    "def extractElevation(nodes, edges):\r\n",
    "    extractNodesElevation(nodes)\r\n",
    "    extractEdgesElevation(nodes, edges)\r\n",
    "\r\n",
    "\r\n",
    "\r\n",
    "def extractNodesElevation(nodes):\r\n",
    "    nodesElevation = pd.read_csv(\"nodesWithElevation.csv\", index_col=0)\r\n",
    "    nodes['indexId'] = nodes.index\r\n",
    "    nodes['elevation'] = nodes.apply(lambda x: nodesElevation.loc[x['indexId'], 'MeanElevation'], axis=1)\r\n",
    "\r\n",
    "\r\n",
    "\r\n",
    "def extractEdgesElevation(nodesWithElevation, edges):\r\n",
    "    edges['uElevation'] = edges['u'].apply(lambda x: nodesWithElevation.loc[x,'elevation'])\r\n",
    "    edges['vElevation'] = edges['v'].apply(lambda x: nodesWithElevation.loc[x,'elevation'])\r\n",
    "\r\n",
    "\r\n",
    "def extractGraphInMurphy(nodes, edges):\r\n",
    "    edgesInMurphy = extractEdgesInMurphy(edges)\r\n",
    "    graphInMurphy = GraphFromGdfs(nodes, edgesInMurphy)\r\n",
    "    return graphInMurphy\r\n",
    "\r\n",
    "\r\n",
    "def extractEdgesInMurphy(edges):\r\n",
    "    edges['uvPair'] = edges.apply(lambda x: (x.u, x.v), axis=1)\r\n",
    "    segmentElevationChange = np.load('statistical data/segmentElevationChange.npy', allow_pickle=True).item()\r\n",
    "    edges['isInMurphy'] = edges.uvPair.apply(lambda x: x in segmentElevationChange)\r\n",
    "    return edges[edges.isInMurphy]\r\n",
    "\r\n",
    "\r\n",
    "def findShortestPath(osmGraph, localRequest):\r\n",
    "    shortestPath = osmGraph.shortestPath(localRequest)\r\n",
    "    print(\"shortestPath:\", shortestPath)\r\n",
    "    # ox.plot_graph(osmGraph)\r\n",
    "    #osmGraph.plotPath(shortestPath, \"shortest route.pdf\")\r\n",
    "    return shortestPath\r\n",
    "\r\n",
    "\r\n",
    "def findEcoPathAndCalEnergy(osmGraph, localRequest):\r\n",
    "    ecoPath, ecoEnergy , ecoEdgePath = osmGraph.ecoPath(localRequest)\r\n",
    "    print(\"ecoPath:\", ecoPath, \"ecoEnergy:\", ecoEnergy, ecoEdgePath)\r\n",
    "    #osmGraph.plotPath(ecoPath, \"eco route.pdf\")\r\n",
    "    return ecoPath, ecoEnergy,  ecoEdgePath\r\n",
    "\r\n",
    "\r\n",
    "def findFastestPathAndCalTime(osmGraph, localRequest):\r\n",
    "\r\n",
    "    fastestPath, shortestTime, fastEdgePath = osmGraph.fastestPath(localRequest)\r\n",
    "    print(\"fastestPath:\", fastestPath, \"shortestTime:\", shortestTime, fastEdgePath)\r\n",
    "    #osmGraph.plotPath(fastestPath,\"fastest route.pdf\")\r\n",
    "    return fastestPath, shortestTime, fastEdgePath\r\n",
    "\r\n",
    "\r\n",
    "def nodePathTOEdgePath(nodePath, edgesGdf):\r\n",
    "    edgePath = []\r\n",
    "    for i, OdPair in enumerate(zip(nodePath[:-1], nodePath[1:])):\r\n",
    "        segmentId = edgesGdf[edgesGdf['odPair'] == OdPair].index[0]\r\n",
    "        edgePath.append(segmentId)\r\n",
    "    return edgePath\r\n",
    "\r\n",
    "\r\n",
    "\r\n",
    "def calAndPrintPathAttributes(osmGraph, edgePath, pathname):\r\n",
    "    numberOfSegments = len(edgePath)\r\n",
    "    length = osmGraph.totalLength(edgePath)\r\n",
    "    energy = osmGraph.totalEnergy(edgePath)\r\n",
    "    time = osmGraph.totalTime(edgePath)\r\n",
    "    print(pathname+\":\"+f\"{numberOfSegments} segments, {length} meters, {energy} liters, {time} seconds\")\r\n",
    "    return"
   ],
   "outputs": [],
   "metadata": {}
  },
  {
   "cell_type": "code",
   "execution_count": 58,
   "source": [
    "import numpy as np\r\n",
    "import os\r\n",
    "import pandas as pd\r\n",
    "from osmgraph import GraphFromBbox, GraphFromHmlFile, GraphFromGdfs\r\n",
    "from spaitalShape import Point, OdPair, Box\r\n",
    "from edgeGdfPreprocessing import edgePreprocessing\r\n",
    "import osmnx as ox\r\n",
    "import math\r\n",
    "import time"
   ],
   "outputs": [],
   "metadata": {}
  },
  {
   "cell_type": "code",
   "execution_count": 59,
   "source": [
    "t0 = time.time()\r\n",
    "locationRequest = LocationRequest()\r\n",
    "osmGraphInBbox = extractGraphOf(locationRequest.boundingBox)\r\n",
    "nodes, edges = osmGraphInBbox.graphToGdfs()\r\n",
    "extractElevation(nodes, edges)"
   ],
   "outputs": [
    {
     "output_type": "stream",
     "name": "stdout",
     "text": [
      "reloading graph..\n"
     ]
    }
   ],
   "metadata": {}
  },
  {
   "cell_type": "code",
   "execution_count": 60,
   "source": [
    "edges = edgePreprocessing(nodes, edges, locationRequest)"
   ],
   "outputs": [],
   "metadata": {}
  },
  {
   "cell_type": "code",
   "execution_count": null,
   "source": [
    "graphWithElevation = GraphFromGdfs(nodes, edges)\r\n",
    "graphWithElevation.removeIsolateNodes()"
   ],
   "outputs": [],
   "metadata": {}
  },
  {
   "cell_type": "code",
   "execution_count": 47,
   "source": [
    "from window import Window\r\n",
    "w = Window(61851,61877,61893,33971)"
   ],
   "outputs": [],
   "metadata": {}
  },
  {
   "cell_type": "code",
   "execution_count": 39,
   "source": [
    "edgesGdf = graphWithElevation.getEdges()"
   ],
   "outputs": [],
   "metadata": {}
  },
  {
   "cell_type": "code",
   "execution_count": 57,
   "source": [
    "edges.loc[0]"
   ],
   "outputs": [
    {
     "output_type": "execute_result",
     "data": {
      "text/plain": [
       "osmid                                                             6022209\n",
       "name                                                     East 43rd Street\n",
       "highway                                                       residential\n",
       "maxspeed                                                           30 mph\n",
       "oneway                                                              False\n",
       "length                                                            100.067\n",
       "geometry                LINESTRING (-93.265072 44.9251429, -93.2649186...\n",
       "ref                                                                   NaN\n",
       "lanes                                                                   0\n",
       "bridge                                                                NaN\n",
       "tunnel                                                                NaN\n",
       "access                                                                NaN\n",
       "junction                                                              NaN\n",
       "area                                                                  NaN\n",
       "service                                                               NaN\n",
       "u                                                                33295049\n",
       "v                                                                33369407\n",
       "key                                                                     0\n",
       "uElevation                                                        253.633\n",
       "vElevation                                                        254.392\n",
       "odPair                                               (33295049, 33369407)\n",
       "mass                                                           -0.0224882\n",
       "speedLimit                                                       -1.48623\n",
       "elevationChange                                                  0.088578\n",
       "points                  [(-93.265072, 44.9251429), (-93.2649186, 44.92...\n",
       "lengthNormalized                                                -0.566088\n",
       "directionAngle                                                     0.8607\n",
       "roadtype                                                                0\n",
       "timeOfTheDay                                                            3\n",
       "dayOfTheWeek                                                            1\n",
       "bridgeOrNot                                                             0\n",
       "oriSignal                                                            None\n",
       "destSignal                                                           None\n",
       "oriSignalCategoried                                                     0\n",
       "destSignalCategoried                                                    0\n",
       "categoricalFeature                                  [0, 3, 1, 0, 0, 0, 0]\n",
       "Name: 0, dtype: object"
      ]
     },
     "metadata": {},
     "execution_count": 57
    }
   ],
   "metadata": {}
  },
  {
   "cell_type": "code",
   "execution_count": 41,
   "source": [
    "w.extractFeatures(edgesGdf)"
   ],
   "outputs": [
    {
     "output_type": "execute_result",
     "data": {
      "text/plain": [
       "([[-1.4862292198533746,\n",
       "   -0.022488209690081074,\n",
       "   -0.031192437596675903,\n",
       "   0.49512859685839516,\n",
       "   -0.5971237458925717,\n",
       "   -0.5792325804809063],\n",
       "  [-1.4862292198533746,\n",
       "   -0.022488209690081074,\n",
       "   1.2821756220539557,\n",
       "   0.9571575011038456,\n",
       "   -0.2850785784460404,\n",
       "   -0.018281071138699402],\n",
       "  [-1.4862292198533746,\n",
       "   -0.022488209690081074,\n",
       "   0.0005224968476190941,\n",
       "   2.778756984652004,\n",
       "   0.20143502886916562,\n",
       "   nan]],\n",
       " [[2, 3, 1, 0, 0, 0, 0], [11, 3, 1, 0, 0, 0, 0], [0, 3, 1, 0, 0, 0, 0]])"
      ]
     },
     "metadata": {},
     "execution_count": 41
    }
   ],
   "metadata": {}
  },
  {
   "cell_type": "code",
   "execution_count": 13,
   "source": [
    "edgesGdf = graphWithElevation.getEdges()"
   ],
   "outputs": [],
   "metadata": {}
  },
  {
   "cell_type": "code",
   "execution_count": null,
   "source": [],
   "outputs": [],
   "metadata": {}
  }
 ],
 "metadata": {
  "orig_nbformat": 4,
  "language_info": {
   "name": "python",
   "version": "3.8.5",
   "mimetype": "text/x-python",
   "codemirror_mode": {
    "name": "ipython",
    "version": 3
   },
   "pygments_lexer": "ipython3",
   "nbconvert_exporter": "python",
   "file_extension": ".py"
  },
  "kernelspec": {
   "name": "python3",
   "display_name": "Python 3.8.5 64-bit ('base': conda)"
  },
  "interpreter": {
   "hash": "6efccfe63ff034e49c0932d86080ee187770f3a9fac302570fc5ff55645a5f3f"
  }
 },
 "nbformat": 4,
 "nbformat_minor": 2
}